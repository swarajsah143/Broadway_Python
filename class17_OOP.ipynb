{
 "cells": [
  {
   "cell_type": "markdown",
   "id": "425ae38e",
   "metadata": {},
   "source": [
    "class<class name>:\n",
    "    <methods1>\n",
    "    <methods2>\n",
    "\n",
    "obj=<class name>()\n"
   ]
  },
  {
   "cell_type": "code",
   "execution_count": 7,
   "id": "5ace477f",
   "metadata": {},
   "outputs": [
    {
     "name": "stdout",
     "output_type": "stream",
     "text": [
      "Hello, World!\n"
     ]
    }
   ],
   "source": [
    "class Hello:\n",
    "    def hello(self):\n",
    "        print(\"Hello, World!\")\n",
    "obj=Hello()\n",
    "obj.hello()"
   ]
  },
  {
   "cell_type": "code",
   "execution_count": null,
   "id": "15be8a92",
   "metadata": {},
   "outputs": [
    {
     "name": "stdout",
     "output_type": "stream",
     "text": [
      "Hello, World!\n"
     ]
    }
   ],
   "source": [
    "# Without self parameter\n",
    "class Hello:\n",
    "    @staticmethod\n",
    "    def hello():\n",
    "        print(\"Hello, World!\")\n",
    "obj=Hello()\n",
    "obj.hello()"
   ]
  },
  {
   "cell_type": "code",
   "execution_count": 9,
   "id": "fce005d9",
   "metadata": {},
   "outputs": [
    {
     "name": "stdout",
     "output_type": "stream",
     "text": [
      " The area is 12.\n"
     ]
    }
   ],
   "source": [
    "class Area:\n",
    "    def area(self,l,b):\n",
    "        print(f\" The area is {l*b}.\")\n",
    "obj=Area()\n",
    "l=int(input(\"Enter length: \"))\n",
    "b=int(input(\"Enter breadth: \"))\n",
    "obj.area(l,b)"
   ]
  },
  {
   "cell_type": "code",
   "execution_count": null,
   "id": "65acea4c",
   "metadata": {},
   "outputs": [
    {
     "name": "stdout",
     "output_type": "stream",
     "text": [
      " The area is 20.\n"
     ]
    }
   ],
   "source": [
    "# Using staticmethod --> It doesnot require an instance of the class to be called\n",
    "class Area:\n",
    "    @staticmethod\n",
    "    def area(l,b):\n",
    "        print(f\" The area is {l*b}.\")\n",
    "obj=Area()\n",
    "l=int(input(\"Enter length: \"))\n",
    "b=int(input(\"Enter breadth: \"))\n",
    "obj.area(l,b)"
   ]
  },
  {
   "cell_type": "code",
   "execution_count": 12,
   "id": "58a22fce",
   "metadata": {},
   "outputs": [
    {
     "name": "stdout",
     "output_type": "stream",
     "text": [
      "Hello, My name is Swaraj. I am 19 years old and I live in Tripureshwor.\n"
     ]
    }
   ],
   "source": [
    "class Info:\n",
    "    def __init__(self, name, age, add):\n",
    "        self.name=name\n",
    "        self.age=age\n",
    "        self.add=add\n",
    "    def info(self):\n",
    "        print(f\"Hello, My name is {self.name}. I am {self.age} years old and I live in {self.add}.\")\n",
    "name=input(\"Enter your name: \")\n",
    "age=int(input(\"Enter your age:\"))\n",
    "add=input(\"Enter your address: \")\n",
    "obj=Info(name,age,add)\n",
    "obj.info()"
   ]
  },
  {
   "cell_type": "code",
   "execution_count": null,
   "id": "b0546cde",
   "metadata": {},
   "outputs": [
    {
     "name": "stdout",
     "output_type": "stream",
     "text": [
      "Hello, My name is Swaraj. I am 19 years old and I live in Tripureshwor.\n",
      "Hello, My name is Sanu. I am 20 years old and I live in Nautan.\n"
     ]
    }
   ],
   "source": [
    "class Info:\n",
    "    def __init__(self, name, age, add):\n",
    "        self.name=name\n",
    "        self.age=age\n",
    "        self.add=add\n",
    "    def info(self):\n",
    "        print(f\"Hello, My name is {self.name}. I am {self.age} years old and I live in {self.add}.\")\n",
    "name=input(\"Enter your name: \")\n",
    "age=int(input(\"Enter your age:\"))\n",
    "add=input(\"Enter your address: \")\n",
    "obj=Info(name,age,add)\n",
    "obj1=Info(\"Sanu\",20,\"Nautan\") # Creating another object\n",
    "obj.info()\n",
    "obj1.info() # Calling the method of another object"
   ]
  },
  {
   "cell_type": "code",
   "execution_count": null,
   "id": "4d72fee9",
   "metadata": {},
   "outputs": [
    {
     "name": "stdout",
     "output_type": "stream",
     "text": [
      "The area is 15\n",
      "The volume is 30\n"
     ]
    }
   ],
   "source": [
    "# Using different classes and calling through the different object \n",
    "class Area:\n",
    "    def __init__(self,l,b):\n",
    "        self.length=l\n",
    "        self.breadth=b\n",
    "    def area(self):\n",
    "        a=self.length*self.breadth\n",
    "        print(f\"The area is {a}\")\n",
    "\n",
    "class Volume:\n",
    "    def __init__(self,l,b,h):\n",
    "        self.length=l\n",
    "        self.breadth=b\n",
    "        self.height=h\n",
    "    def volume(self):\n",
    "        v=self.length*self.breadth*self.height\n",
    "        print(f\"The volume is {v}\")\n",
    "        \n",
    "obj=Area(3,5)\n",
    "obj.area()\n",
    "obj1=Volume(3,5,2)\n",
    "obj1.volume()\n",
    "\n"
   ]
  },
  {
   "cell_type": "code",
   "execution_count": null,
   "id": "5961654f",
   "metadata": {},
   "outputs": [
    {
     "name": "stdout",
     "output_type": "stream",
     "text": [
      "Hello, My name is Swaraj I am 19 years old and I live in Nautan.\n"
     ]
    }
   ],
   "source": [
    "# Without using  parameters in __init__\n",
    "\n",
    "class Info:\n",
    "    def __init__(self):\n",
    "        self.name=input(\"Enter your name: \")\n",
    "        self.age=int(input(\"Enter your age: \"))\n",
    "        self.add=input(\"Enter your address: \")\n",
    "    def info(self):\n",
    "        print(f\"Hello, My name is {self.name} I am {self.age} years old and I live in {self.add}.\")\n",
    "obj=Info()\n",
    "obj.info()"
   ]
  },
  {
   "cell_type": "code",
   "execution_count": null,
   "id": "f81c10bf",
   "metadata": {},
   "outputs": [],
   "source": []
  }
 ],
 "metadata": {
  "kernelspec": {
   "display_name": "Python 3",
   "language": "python",
   "name": "python3"
  },
  "language_info": {
   "codemirror_mode": {
    "name": "ipython",
    "version": 3
   },
   "file_extension": ".py",
   "mimetype": "text/x-python",
   "name": "python",
   "nbconvert_exporter": "python",
   "pygments_lexer": "ipython3",
   "version": "3.13.1"
  }
 },
 "nbformat": 4,
 "nbformat_minor": 5
}
