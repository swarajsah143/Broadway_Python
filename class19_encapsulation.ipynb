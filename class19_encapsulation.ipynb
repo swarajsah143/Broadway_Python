{
 "cells": [
  {
   "cell_type": "code",
   "execution_count": 10,
   "id": "75d9c60a",
   "metadata": {},
   "outputs": [
    {
     "name": "stdout",
     "output_type": "stream",
     "text": [
      "Ram\n",
      "12\n",
      "Kathmandu\n"
     ]
    }
   ],
   "source": [
    "# pUblic members\n",
    "\n",
    "class Info:\n",
    "    def __init__(self):\n",
    "        self.name=\"Ram\"\n",
    "        self.age=12\n",
    "        self.add=\"Kathmandu\"\n",
    "\n",
    "obj=Info()\n",
    "\n",
    "print(obj.name)\n",
    "print(obj.age)\n",
    "print(obj.add)\n",
    "\n",
    "\n",
    "\n",
    "\n"
   ]
  },
  {
   "cell_type": "code",
   "execution_count": null,
   "id": "d1d5ceb5",
   "metadata": {},
   "outputs": [
    {
     "name": "stdout",
     "output_type": "stream",
     "text": [
      "Sanu\n",
      "Inherited:\n",
      " Name=Sanu\n",
      " Age=19\n",
      " Address=Tripureshwor \n"
     ]
    }
   ],
   "source": [
    "# Protected members ----- means having single underscore \"_\"\n",
    "\n",
    "class Data:\n",
    "    def __init__(self):\n",
    "        self._name= \"Sanu\"  # These are protected so we cannot use outside of class except inherited class.\n",
    "        self._age= 19  # protected\n",
    "        self._add= \"Tripureshwor\" # protected\n",
    "    def data(self):\n",
    "        print(f\"Hey, I am {self._name}. I am {self._age} years old and I live in {self._add}\")\n",
    "class Info(Data):\n",
    "    def info(self):\n",
    "        print(f\"Inherited:\\n Name={self._name}\\n Age={self._age}\\n Address={self._add} \")\n",
    "        \n",
    "obj=Info()\n",
    "print(obj._name)\n",
    "obj.info()\n"
   ]
  },
  {
   "cell_type": "code",
   "execution_count": 35,
   "id": "f31d93b4",
   "metadata": {},
   "outputs": [
    {
     "name": "stdout",
     "output_type": "stream",
     "text": [
      "Inherited:\n",
      " Name=Sanu\n",
      "Sanu\n"
     ]
    }
   ],
   "source": [
    "# Private members  --- means having double underscore \"__\"\n",
    "class Data:\n",
    "    def __init__(self):\n",
    "        self._name= \"Sanu\"  # Protected(_)\n",
    "        self.__age= 19  # Private(__)\n",
    "        self.__add= \"Tripureshwor\" # Private(__)\n",
    "    def data(self):\n",
    "        print(f\"Hey, I am {self._name}. I am {self.__age} years old and I live in {self.__add}\")\n",
    "class Info(Data):     # Child class\n",
    "    def info(self):\n",
    "        print(f\"Inherited:\\n Name={self._name}\")\n",
    "        \n",
    "obj=Info()\n",
    "obj.info()\n",
    "print(obj._name) # This is protected -- can be accessed in a inherited class.\n",
    "\n",
    "# print(obj.__age)  This will throw an error because age is completely private so cannot be accesed outside of class.\n"
   ]
  },
  {
   "cell_type": "code",
   "execution_count": null,
   "id": "54587e76",
   "metadata": {},
   "outputs": [
    {
     "name": "stdout",
     "output_type": "stream",
     "text": [
      "Name: Sanu\n",
      "Age: 12\n",
      "Address: Kathmandu\n",
      "Sanu --This is returned in the form of object. \n"
     ]
    },
    {
     "data": {
      "text/plain": [
       "'Sanu --This is returned in the form of object. '"
      ]
     },
     "execution_count": 6,
     "metadata": {},
     "output_type": "execute_result"
    }
   ],
   "source": [
    "# str method\n",
    "class Info:\n",
    "    def __init__(self):\n",
    "        self.name=\"Sanu\"\n",
    "        self.age=12\n",
    "        self.add=\"Kathmandu\"\n",
    "    \n",
    "    def __str__(self):\n",
    "        return self.name + \" --This is returned in the form of object. \"\n",
    "    \n",
    "    def info(self):\n",
    "        print(f\"Name: {self.name}\\nAge: {self.age}\\nAddress: {self.add}\")\n",
    "\n",
    "obj=Info()\n",
    "obj.info()\n",
    "print(obj)  # This returns the object\n",
    "obj.__str__()  # This returns the string.\n"
   ]
  },
  {
   "cell_type": "code",
   "execution_count": 73,
   "id": "84917308",
   "metadata": {},
   "outputs": [
    {
     "name": "stdout",
     "output_type": "stream",
     "text": [
      "Hello Sanu, I am 12 years old and from Kathmandu\n"
     ]
    },
    {
     "data": {
      "text/plain": [
       "{'Name': 'Sanu', 'Age': 12, 'Address': 'Kathmandu'}"
      ]
     },
     "execution_count": 73,
     "metadata": {},
     "output_type": "execute_result"
    }
   ],
   "source": [
    "# repr method\n",
    "class Info:\n",
    "    def __init__(self):\n",
    "        self.name=\"Sanu\"\n",
    "        self.age=12\n",
    "        self.add=\"Kathmandu\"\n",
    "    \n",
    "    def __repr__(self):\n",
    "        return {\"Name\":self.name,\"Age\":self.age,\"Address\":self.add }\n",
    "    \n",
    "    def info(self):\n",
    "        print(f\"Hello {self.name}, I am {self.age} years old and from {self.add}\")\n",
    "\n",
    "obj=Info()\n",
    "obj.info()\n",
    "obj.__repr__()\n",
    "\n"
   ]
  },
  {
   "cell_type": "code",
   "execution_count": 13,
   "id": "525b2198",
   "metadata": {},
   "outputs": [
    {
     "name": "stdout",
     "output_type": "stream",
     "text": [
      "This is init method 1000\n",
      "This is init method 2000\n",
      "This is add method 3000\n",
      "This is init method 3000\n",
      "This is str method 3000\n",
      "3000\n"
     ]
    }
   ],
   "source": [
    "# Operator overloading\n",
    "\n",
    "class Point:\n",
    "    def __init__(self,x):\n",
    "        self.x=x\n",
    "        print(\"This is init method\",self.x)\n",
    "\n",
    "    def __str__(self):\n",
    "        print(\"This is str method\",self.x)\n",
    "        return str(self.x)\n",
    "    \n",
    "    def __add__(self,other):\n",
    "        x=self.x + other.x\n",
    "        print(\"This is add method\",x)\n",
    "        return Point(x)\n",
    "p1=Point(1000)\n",
    "p2=Point(2000)\n",
    "print(p1+p2)   # This directs to the __add__"
   ]
  },
  {
   "cell_type": "code",
   "execution_count": null,
   "id": "ee89461e",
   "metadata": {},
   "outputs": [],
   "source": []
  }
 ],
 "metadata": {
  "kernelspec": {
   "display_name": "Python 3",
   "language": "python",
   "name": "python3"
  },
  "language_info": {
   "codemirror_mode": {
    "name": "ipython",
    "version": 3
   },
   "file_extension": ".py",
   "mimetype": "text/x-python",
   "name": "python",
   "nbconvert_exporter": "python",
   "pygments_lexer": "ipython3",
   "version": "3.13.1"
  }
 },
 "nbformat": 4,
 "nbformat_minor": 5
}
