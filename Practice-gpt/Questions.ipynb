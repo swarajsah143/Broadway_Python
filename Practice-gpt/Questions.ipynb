{
 "cells": [
  {
   "cell_type": "code",
   "execution_count": 1,
   "id": "bdc7910b",
   "metadata": {},
   "outputs": [
    {
     "name": "stdout",
     "output_type": "stream",
     "text": [
      "1\n",
      "2\n",
      "3\n",
      "4\n",
      "5\n",
      "6\n",
      "7\n",
      "8\n",
      "9\n",
      "10\n",
      "11\n",
      "12\n",
      "13\n",
      "14\n",
      "15\n",
      "16\n",
      "17\n",
      "18\n",
      "19\n",
      "20\n",
      "21\n",
      "22\n",
      "23\n",
      "24\n",
      "25\n",
      "26\n",
      "27\n",
      "28\n",
      "29\n",
      "30\n",
      "31\n",
      "32\n",
      "33\n",
      "34\n",
      "35\n",
      "36\n",
      "37\n",
      "38\n",
      "39\n",
      "40\n",
      "41\n",
      "42\n",
      "43\n",
      "44\n",
      "45\n",
      "46\n",
      "47\n",
      "48\n",
      "49\n",
      "50\n"
     ]
    }
   ],
   "source": [
    "for i in range(1,51):\n",
    "    print(i)"
   ]
  },
  {
   "cell_type": "code",
   "execution_count": 2,
   "id": "97bd06c0",
   "metadata": {},
   "outputs": [
    {
     "name": "stdout",
     "output_type": "stream",
     "text": [
      "5 x 1 =5\n",
      "5 x 2 =10\n",
      "5 x 3 =15\n",
      "5 x 4 =20\n",
      "5 x 5 =25\n",
      "5 x 6 =30\n",
      "5 x 7 =35\n",
      "5 x 8 =40\n",
      "5 x 9 =45\n",
      "5 x 10 =50\n"
     ]
    }
   ],
   "source": [
    "i=1\n",
    "n=int(input(\"Enter any number:\"))\n",
    "while i<11:\n",
    "    print(f\"{n} x {i} ={n*i}\")\n",
    "    i+=1"
   ]
  },
  {
   "cell_type": "code",
   "execution_count": 3,
   "id": "4d4a4ae3",
   "metadata": {},
   "outputs": [
    {
     "name": "stdout",
     "output_type": "stream",
     "text": [
      "2\n",
      "4\n",
      "6\n",
      "8\n",
      "10\n",
      "12\n",
      "14\n"
     ]
    }
   ],
   "source": [
    "num=[1,2,3,4,5,6,7,8,9,10,11,12,13,14,15]\n",
    "for even in num:\n",
    "    if(even%2==0):\n",
    "        print(even)\n",
    "    "
   ]
  },
  {
   "cell_type": "code",
   "execution_count": 10,
   "id": "7ea97771",
   "metadata": {},
   "outputs": [
    {
     "name": "stdout",
     "output_type": "stream",
     "text": [
      "Sum of digits is: 6\n"
     ]
    }
   ],
   "source": [
    "sum=0\n",
    "num=int(input(\"Enter any number:\"))\n",
    "while num>0:\n",
    "    rem=n%10\n",
    "    sum+=rem\n",
    "    num=num//10\n",
    "print(\"Sum of digits is:\",sum)"
   ]
  },
  {
   "cell_type": "code",
   "execution_count": 12,
   "id": "982b26de",
   "metadata": {},
   "outputs": [
    {
     "name": "stdout",
     "output_type": "stream",
     "text": [
      "The number which are exactly divisible by 5 between 1 and 100 are: \n",
      "5\n",
      "10\n",
      "15\n",
      "20\n",
      "25\n",
      "30\n",
      "35\n",
      "40\n",
      "45\n",
      "50\n",
      "55\n",
      "60\n",
      "65\n",
      "70\n",
      "75\n",
      "80\n",
      "85\n",
      "90\n",
      "95\n"
     ]
    }
   ],
   "source": [
    "print(\"The number which are exactly divisible by 5 between 1 and 100 are: \")\n",
    "for i in range(1,100):\n",
    "    if i%5==0:\n",
    "        print(i)"
   ]
  },
  {
   "cell_type": "markdown",
   "id": "172397c8",
   "metadata": {},
   "source": [
    " Lists questions"
   ]
  },
  {
   "cell_type": "code",
   "execution_count": 45,
   "id": "531c02b8",
   "metadata": {},
   "outputs": [
    {
     "name": "stdout",
     "output_type": "stream",
     "text": [
      "[1, 2, 3, 7, 8]\n"
     ]
    }
   ],
   "source": [
    "#6. Write a program to input 5 numbers from the user and store them in a list.\n",
    "\n",
    "num=[]\n",
    "for i in range(5):\n",
    "    numbers=int(input(\"Enter the number: \"))\n",
    "    num.append(numbers)\n",
    "print(num)\n",
    "\n"
   ]
  },
  {
   "cell_type": "code",
   "execution_count": 46,
   "id": "93d10030",
   "metadata": {},
   "outputs": [
    {
     "name": "stdout",
     "output_type": "stream",
     "text": [
      "The mimimum num is 1\n",
      "The maximum num is 8\n"
     ]
    }
   ],
   "source": [
    "#7. Given a list of numbers, find the maximum and minimum value.\n",
    "print(f\"The mimimum num is {min(num)}\")\n",
    "print(f\"The maximum num is {max(num)}\")\n",
    "\n"
   ]
  },
  {
   "cell_type": "code",
   "execution_count": 30,
   "id": "ec244c67",
   "metadata": {},
   "outputs": [
    {
     "name": "stdout",
     "output_type": "stream",
     "text": [
      "[39, 8, 7, 26, 15, 4, 332, 2, 1]\n"
     ]
    }
   ],
   "source": [
    "#8. Create a list and write a program to reverse the list manually (without using .reverse() or slicing). ?\n",
    "\n",
    "nums=[1,2,332,4,15,26,7,8,39]\n",
    "rev_list=[]\n",
    "for i in range(len(nums)-1,-1,-1):\n",
    "    rev_list.append(nums[i])\n",
    "    # print(rev_list)\n",
    "print(rev_list)"
   ]
  },
  {
   "cell_type": "code",
   "execution_count": 34,
   "id": "ed92260b",
   "metadata": {},
   "outputs": [
    {
     "name": "stdout",
     "output_type": "stream",
     "text": [
      "[1, 2, 3, 4, 5, 11, 22, 33, 44, 55]\n"
     ]
    }
   ],
   "source": [
    "#9. Given two lists, merge them into a third list without using built-in functions.\n",
    "list1=[1,2,3,4,5]\n",
    "list2=[11,22,33,44,55]\n",
    "list3=list1+list2\n",
    "print(list3)\n"
   ]
  },
  {
   "cell_type": "code",
   "execution_count": null,
   "id": "230cae12",
   "metadata": {},
   "outputs": [
    {
     "name": "stdout",
     "output_type": "stream",
     "text": [
      "[1, 2, 3, 4, 5, 8, 6, 7]\n"
     ]
    }
   ],
   "source": [
    "#10. Write a program to remove all duplicates from a list.\n",
    "list=[1,2,1,1,3,4,5,5,8,1,3,6,7,1]\n",
    "unique_list=[]\n",
    "for i in list:\n",
    "    if i not in unique_list:\n",
    "        unique_list.append(i)\n",
    "# r_list.sort()\n",
    "print(unique_list)"
   ]
  },
  {
   "cell_type": "markdown",
   "id": "8565a5e2",
   "metadata": {},
   "source": [
    "Tuple"
   ]
  },
  {
   "cell_type": "code",
   "execution_count": null,
   "id": "f054d790",
   "metadata": {},
   "outputs": [
    {
     "name": "stdout",
     "output_type": "stream",
     "text": [
      "The number at index 3 is 56\n"
     ]
    }
   ],
   "source": [
    "#11. Create a tuple containing 10 numbers. Write a program to find the index of a specific number entered by the user.\n",
    "\n",
    "finder=(1,21,34,56,7,55,45,33,9,0,46,78)\n",
    "user=int(input(\"Enter the index of a number you want to find: \"))\n",
    "print(f\"The number at index {user} is {finder[user]}\")"
   ]
  },
  {
   "cell_type": "code",
   "execution_count": null,
   "id": "03822949",
   "metadata": {},
   "outputs": [
    {
     "name": "stdout",
     "output_type": "stream",
     "text": [
      "[2, 4, 6, 8]\n"
     ]
    }
   ],
   "source": [
    "#12. Write a function that accepts a tuple of numbers and returns a new tuple with only the even numbers.\n",
    "new_tup=[]\n",
    "def tup():\n",
    "    old_tup=(1,2,3,4,5,6,7,8,9)\n",
    "    for i in old_tup:\n",
    "        if i%2==0:\n",
    "            new_tup.append(i)\n",
    "    return new_tup\n",
    "print(tup())"
   ]
  },
  {
   "cell_type": "code",
   "execution_count": 74,
   "id": "d1341441",
   "metadata": {},
   "outputs": [
    {
     "name": "stdout",
     "output_type": "stream",
     "text": [
      "The number of words starting with vowels are 6\n"
     ]
    }
   ],
   "source": [
    "#13. Given a tuple of strings, write a program to count how many strings start with a vowel.\n",
    "\n",
    "count_vowel=(\"ram\",\"shyam\",\"orange\",\"banana\",\"apple\",\"universe\",\"until\",\"elephant\",\"umbrella\",\"grape\")\n",
    "c=0\n",
    "vowel=\"aeiou\"\n",
    "for i in count_vowel:\n",
    "    if i[0] in vowel:\n",
    "        c+=1\n",
    "print(f\"The number of words starting with vowels are {c}\")\n",
    "    "
   ]
  },
  {
   "cell_type": "markdown",
   "id": "1ae59ca6",
   "metadata": {},
   "source": [
    "Dictionary"
   ]
  },
  {
   "cell_type": "code",
   "execution_count": 59,
   "id": "ff863ef0",
   "metadata": {},
   "outputs": [
    {
     "name": "stdout",
     "output_type": "stream",
     "text": [
      "Swraj(99.0) has scored more than 80 marks\n",
      "Sanu(88.0) has scored more than 80 marks\n",
      "Rahul(90.0) has scored more than 80 marks\n"
     ]
    }
   ],
   "source": [
    "#14. Create a dictionary to store the names and marks of 5 students, then print all student names who scored more than 80.\n",
    "info={}\n",
    "for i in range(5):\n",
    "    name=input(\"Enter the name of the student:\")\n",
    "    marks=float(input(\"Enter the marks of the student: \"))\n",
    "    info[name]=marks\n",
    "    if marks>80:\n",
    "        print(f\"{name}({marks}) has scored more than 80 marks\")\n",
    "\n"
   ]
  },
  {
   "cell_type": "code",
   "execution_count": null,
   "id": "3feb1724",
   "metadata": {},
   "outputs": [
    {
     "name": "stdout",
     "output_type": "stream",
     "text": [
      "The capital of China is Beijing\n"
     ]
    }
   ],
   "source": [
    "#16. Create a dictionary of countries and their capitals. Allow the user to input a country and print its capital.\n",
    "capital_finder={\n",
    "    \"India\":\"New Delhi\",\n",
    "    \"USA\":\"Washington\",\n",
    "    \"Nepal\":\"Kathmandu\",\n",
    "    \"China\":\"Beijing\",\n",
    "    \"Japan\":\"Tokyo\"\n",
    "}\n",
    "country=input(\"Enter the name of the country:\")\n",
    "print(f\"The capital of {country} is {capital_finder.get(country)}\")"
   ]
  },
  {
   "cell_type": "code",
   "execution_count": 73,
   "id": "ec8824d0",
   "metadata": {},
   "outputs": [
    {
     "name": "stdout",
     "output_type": "stream",
     "text": [
      "{'S': 2, 'w': 1, 'a': 4, 'r': 1, 'j': 1, ' ': 1, 'h': 1}\n"
     ]
    }
   ],
   "source": [
    "#15. Write a program to count the frequency of each character in a string using a dictionary.\n",
    "\n",
    "word=input(\"Enter any word:\")\n",
    "freq_dict={}\n",
    "c=0\n",
    "for i in word:\n",
    "    freq_dict[i]=word.count(i)\n",
    "print(freq_dict)\n",
    "\n"
   ]
  },
  {
   "cell_type": "code",
   "execution_count": null,
   "id": "1ca36a21",
   "metadata": {},
   "outputs": [
    {
     "name": "stdout",
     "output_type": "stream",
     "text": [
      "{'a': 10, 'b': 25, 'c': 45, 'd': 40}\n"
     ]
    }
   ],
   "source": [
    "#17. Merge two dictionaries into a new one. If a key exists in both, add their values.\n",
    "dict1 = {'a': 10, 'b': 20, 'c': 30}\n",
    "dict2 = {'b': 5, 'c': 15, 'd': 40}\n",
    "\n",
    "for key in dict2:\n",
    "    if key in dict1:\n",
    "        dict1[key] += dict2[key]\n",
    "    else:\n",
    "        dict1[key] = dict2[key]\n",
    "\n",
    "print(dict1)\n"
   ]
  },
  {
   "cell_type": "markdown",
   "id": "0d2fb9d4",
   "metadata": {},
   "source": [
    "Function\n"
   ]
  },
  {
   "cell_type": "code",
   "execution_count": null,
   "id": "a3cfed2c",
   "metadata": {},
   "outputs": [
    {
     "name": "stdout",
     "output_type": "stream",
     "text": [
      "6 is not a prime number\n"
     ]
    }
   ],
   "source": [
    "#18. Write a function to check whether a number is prime or not.\n",
    "c=0\n",
    "def check(num):\n",
    "    global c\n",
    "    for i in range(1,num+1):\n",
    "        if num%i==0:\n",
    "            c=c+1\n",
    "    if c>2:\n",
    "        print(f\"{num} is not a prime number\")\n",
    "        \n",
    "    else:\n",
    "        print(f\"{num} is a prime number\")\n",
    "    \n",
    "check(6)\n",
    "# list of prime numbers [1,2,3,5,7,11,13,17,19,23,29,31,37,41,43,47]\n",
    "\n",
    "\n"
   ]
  },
  {
   "cell_type": "code",
   "execution_count": null,
   "id": "0d20335c",
   "metadata": {},
   "outputs": [
    {
     "name": "stdout",
     "output_type": "stream",
     "text": [
      "The sum of positive number is the list is 15\n"
     ]
    }
   ],
   "source": [
    "#19. Write a function that accepts a list and returns the sum of all positive numbers in it.\n",
    "s=0\n",
    "list=[1,2,3,4,5,-1,-2,-3,-4,-5]\n",
    "def pos(list):\n",
    "    global s\n",
    "    for num in list:\n",
    "        if num>0:\n",
    "            s=s+num\n",
    "    return s\n",
    "print(f\"The sum of positive number is the list is {pos(list)}\")\n"
   ]
  },
  {
   "cell_type": "code",
   "execution_count": null,
   "id": "b126179e",
   "metadata": {},
   "outputs": [
    {
     "name": "stdout",
     "output_type": "stream",
     "text": [
      "The factorial of 5 is 120\n"
     ]
    }
   ],
   "source": [
    "#20. Create a function to find the factorial of a number using recursion.\n",
    "n=int(input(\"Enter any number: \"))\n",
    "def fac(n):\n",
    "        if n==0 or n==1:\n",
    "            return 1\n",
    "        else:\n",
    "            n =n*fac(n-1)\n",
    "            return n\n",
    "        \n",
    "ret=fac(n)\n",
    "print(f\"The factorial of {n} is {ret}\")"
   ]
  },
  {
   "cell_type": "code",
   "execution_count": 60,
   "id": "419fbe2b",
   "metadata": {},
   "outputs": [
    {
     "name": "stdout",
     "output_type": "stream",
     "text": [
      "jarawSsIemaNyM\n"
     ]
    }
   ],
   "source": [
    "#21. Write a function that takes a string and returns the string in reverse.\n",
    "word=input(\"Enter any word: \")\n",
    "def rev():\n",
    "    return word[::-1] \n",
    "print(rev())"
   ]
  },
  {
   "cell_type": "code",
   "execution_count": null,
   "id": "c50d9e90",
   "metadata": {},
   "outputs": [
    {
     "name": "stdout",
     "output_type": "stream",
     "text": [
      "The number of vowels in the string is 2\n",
      "The number of consonants in the string is 4\n"
     ]
    }
   ],
   "source": [
    "#22. Write a function that counts the number of vowels and consonants in a given string.\n",
    "string=input(\"Enter the string: \").lower()\n",
    "VC=0\n",
    "CC=0\n",
    "vowel='aeiou'\n",
    "def count(string):\n",
    "    global VC,CC,vowel\n",
    "    for i in string:\n",
    "        if i!=\" \":\n",
    "            if i in vowel:\n",
    "                VC+=1\n",
    "            else:\n",
    "                CC+=1\n",
    "    print(f\"The number of vowels in the string is {VC}\")\n",
    "    print(f\"The number of consonants in the string is {CC}\")\n",
    "count(string)"
   ]
  },
  {
   "cell_type": "markdown",
   "id": "5adfa646",
   "metadata": {},
   "source": [
    "File handling"
   ]
  },
  {
   "cell_type": "code",
   "execution_count": null,
   "id": "53444859",
   "metadata": {},
   "outputs": [
    {
     "name": "stdout",
     "output_type": "stream",
     "text": [
      "This is line 1\n",
      "This is line 2\n",
      "This is line 3\n",
      "This is line 4\n",
      "This is line 5\n",
      "\n"
     ]
    }
   ],
   "source": [
    "#23. Write a program to create a text file and write 5 lines of text into it.\n",
    "file=open(\"lines.txt\",\"a\")\n",
    "file.write(\"This is line 1\\n\")\n",
    "file.write(\"This is line 2\\n\")\n",
    "file.write(\"This is line 3\\n\")\n",
    "file.write(\"This is line 4\\n\")\n",
    "file.write(\"This is line 5\\n\")\n",
    "file.close()\n"
   ]
  },
  {
   "cell_type": "code",
   "execution_count": null,
   "id": "7030affe",
   "metadata": {},
   "outputs": [
    {
     "name": "stdout",
     "output_type": "stream",
     "text": [
      "The no. of words in 'line.txt' file is 20\n"
     ]
    }
   ],
   "source": [
    "#24. Write a Python program to read a file and count the number of words in it.\n",
    "c=0\n",
    "f=open(\"lines.txt\",\"r\")\n",
    "data=f.read()\n",
    "for word in data:\n",
    "    if word==\" \" or word ==\"\\n\":\n",
    "        c+=1\n",
    "print(f\"The no. of words in 'line.txt' file is {c}\")"
   ]
  },
  {
   "cell_type": "code",
   "execution_count": 3,
   "id": "13927d98",
   "metadata": {},
   "outputs": [],
   "source": [
    "#25. Write a program to read from one file and copy its content to another file.\n",
    "f= open('lines.txt','r')\n",
    "data=f.read()\n",
    "f.close()\n",
    "\n",
    "g=open('copy.txt','w')\n",
    "g.write(data)\n",
    "\n",
    "g.close()"
   ]
  },
  {
   "cell_type": "code",
   "execution_count": null,
   "id": "2535046b",
   "metadata": {},
   "outputs": [],
   "source": []
  }
 ],
 "metadata": {
  "kernelspec": {
   "display_name": "Python 3",
   "language": "python",
   "name": "python3"
  },
  "language_info": {
   "codemirror_mode": {
    "name": "ipython",
    "version": 3
   },
   "file_extension": ".py",
   "mimetype": "text/x-python",
   "name": "python",
   "nbconvert_exporter": "python",
   "pygments_lexer": "ipython3",
   "version": "3.13.1"
  }
 },
 "nbformat": 4,
 "nbformat_minor": 5
}
