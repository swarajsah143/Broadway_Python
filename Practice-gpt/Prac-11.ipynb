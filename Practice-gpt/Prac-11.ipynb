{
 "cells": [
  {
   "cell_type": "code",
   "execution_count": 1,
   "id": "589f2938",
   "metadata": {},
   "outputs": [
    {
     "name": "stdout",
     "output_type": "stream",
     "text": [
      "Hello practice\n"
     ]
    }
   ],
   "source": [
    "print(\"Hello practice\")"
   ]
  },
  {
   "cell_type": "markdown",
   "id": "b71c12be",
   "metadata": {},
   "source": [
    "Write a program that takes the names and marks of 5 students using a loop and stores them in a dictionary. Then:\n",
    "\n",
    "Print the student with the highest marks.\n",
    "\n",
    "Display the average marks using a function."
   ]
  },
  {
   "cell_type": "code",
   "execution_count": null,
   "id": "d9d5b4c8",
   "metadata": {},
   "outputs": [],
   "source": [
    "#Wrong code\n",
    "dict={}\n",
    "for i in range(3):\n",
    "    name=input(\"Enter the name of Student: \")\n",
    "    marks=input(\"Enter the marks of Student: \")\n",
    "    dict[name]=marks\n",
    "\n"
   ]
  },
  {
   "cell_type": "markdown",
   "id": "ad7d52fd",
   "metadata": {},
   "source": [
    "Write a function that takes a string and returns a dictionary with the count of each vowel. Use a set to define vowels and a dictionary to store counts."
   ]
  },
  {
   "cell_type": "code",
   "execution_count": null,
   "id": "d7e42d1e",
   "metadata": {},
   "outputs": [
    {
     "name": "stdout",
     "output_type": "stream",
     "text": [
      "{'e': 3, 'o': 1, 'u': 1, 'i': 1}\n"
     ]
    }
   ],
   "source": [
    "# Correct\n",
    "vowel_count={}\n",
    "vowels=set('aeiou')\n",
    "c=0\n",
    "word=input(\"Enter the word: \").lower()\n",
    "for i in range(len(word)):\n",
    "    if(word[i] in vowels):\n",
    "        if(word[i] in vowel_count):\n",
    "            c+=1\n",
    "            vowel_count[word[i]]+=1\n",
    "        else:\n",
    "            vowel_count[word[i]]=1\n",
    "print(vowel_count)"
   ]
  },
  {
   "cell_type": "markdown",
   "id": "73e834bb",
   "metadata": {},
   "source": [
    "Unique Word Finder\n",
    "Write a Python program that:\n",
    "\n",
    "Takes a sentence as input,\n",
    "\n",
    "Splits it into words,\n",
    "\n",
    "Stores the unique words in a set,\n",
    "\n",
    "Prints the number of unique words."
   ]
  },
  {
   "cell_type": "code",
   "execution_count": 50,
   "id": "2d5ab249",
   "metadata": {},
   "outputs": [
    {
     "name": "stdout",
     "output_type": "stream",
     "text": [
      "The total unique word is  5\n",
      "The unique words are:  {'only', 'a', 'this', 'is', 'test'}\n"
     ]
    }
   ],
   "source": [
    "unique_word=set()\n",
    "sentence=input(\"Enter the sentence: \")\n",
    "words=sentence.split()\n",
    "for word in words:\n",
    "    unique_word.add(word)\n",
    "print(\"The total unique word is \",len(unique_word))\n",
    "print(\"The unique words are: \",unique_word)\n",
    "\n",
    "\n"
   ]
  },
  {
   "cell_type": "code",
   "execution_count": null,
   "id": "6ffd813c",
   "metadata": {},
   "outputs": [],
   "source": []
  }
 ],
 "metadata": {
  "kernelspec": {
   "display_name": "Python 3",
   "language": "python",
   "name": "python3"
  },
  "language_info": {
   "codemirror_mode": {
    "name": "ipython",
    "version": 3
   },
   "file_extension": ".py",
   "mimetype": "text/x-python",
   "name": "python",
   "nbconvert_exporter": "python",
   "pygments_lexer": "ipython3",
   "version": "3.13.1"
  }
 },
 "nbformat": 4,
 "nbformat_minor": 5
}
