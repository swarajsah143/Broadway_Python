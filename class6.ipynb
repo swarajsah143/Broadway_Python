{
 "cells": [
  {
   "cell_type": "code",
   "execution_count": null,
   "id": "0ab3f67f",
   "metadata": {},
   "outputs": [
    {
     "name": "stdout",
     "output_type": "stream",
     "text": [
      "Odd\n",
      "Even\n",
      "Odd\n",
      "Even\n",
      "Odd\n",
      "Even\n",
      "Odd\n",
      "Even\n",
      "Odd\n",
      "Your number was negative\n",
      " The program will be ended.\n"
     ]
    }
   ],
   "source": [
    "# Self practice\n",
    "\n",
    "#Q10: Write a program that takes a number as input from the user, checks if it is even or odd, and prints \"Even\" or \"Odd\" accordingly. Use a while loop to keep asking for input until the user enters a negative number.\n",
    "\n",
    "\n",
    "user=int(input(\"ENter a number: \"))\n",
    "while user>0:\n",
    "    if user%2==0:\n",
    "        print(\"Even\")\n",
    "    else: \n",
    "        print(\"Odd\")\n",
    "           \n",
    "    user=int(input(\"ENter a number: \"))\n",
    "\n",
    "        \n",
    "else:\n",
    "    print(\"The number was negative\\n The program will be ended.\")\n",
    "\n"
   ]
  },
  {
   "cell_type": "code",
   "execution_count": null,
   "id": "127b16fd",
   "metadata": {},
   "outputs": [
    {
     "name": "stdout",
     "output_type": "stream",
     "text": [
      "0\n",
      "1\n",
      "2\n",
      "3\n",
      "4\n",
      "0\n",
      "1\n",
      "2\n",
      "3\n",
      "4\n",
      "6\n",
      "7\n",
      "8\n",
      "9\n"
     ]
    }
   ],
   "source": [
    "# Control statement\n",
    "# 1) break\n",
    "# 2) Continue\n",
    "\n",
    "#break\n",
    "\n",
    "for i in range(10):\n",
    "    if i==5:\n",
    "        break     # It breaks down the loop and the loop will be ended\n",
    "    print(i)\n"
   ]
  },
  {
   "cell_type": "code",
   "execution_count": null,
   "id": "02802979",
   "metadata": {},
   "outputs": [
    {
     "name": "stdout",
     "output_type": "stream",
     "text": [
      "0\n",
      "1\n",
      "2\n",
      "3\n",
      "4\n",
      "6\n",
      "7\n",
      "8\n",
      "9\n"
     ]
    }
   ],
   "source": [
    "# Continue  means that it doesnot allow to run the command below it which is in the same intendation\n",
    "for i in range(10):\n",
    "    if i==5:\n",
    "        continue     # It skip the 1 itteration( 1 loop)\n",
    "    print(i)"
   ]
  },
  {
   "cell_type": "code",
   "execution_count": 10,
   "id": "2bc29e96",
   "metadata": {},
   "outputs": [
    {
     "name": "stdout",
     "output_type": "stream",
     "text": [
      "Hello Hyper"
     ]
    }
   ],
   "source": [
    "sent=\"Hello Hyper. You are going to be success one day. \"\n",
    "for i in sent:\n",
    "    if i==\".\":\n",
    "        break\n",
    "    print(i,end=\"\")"
   ]
  },
  {
   "cell_type": "code",
   "execution_count": 12,
   "id": "c4a2ef09",
   "metadata": {},
   "outputs": [
    {
     "name": "stdout",
     "output_type": "stream",
     "text": [
      "Hello Hyper You are going to be success one day "
     ]
    }
   ],
   "source": [
    "sent=\"Hello Hyper. You are going to be success one day. \"\n",
    "for i in sent:\n",
    "    if i==\".\":\n",
    "        continue\n",
    "    print(i,end=\"\")"
   ]
  },
  {
   "cell_type": "code",
   "execution_count": null,
   "id": "6dbf2096",
   "metadata": {},
   "outputs": [
    {
     "name": "stdout",
     "output_type": "stream",
     "text": [
      "The given number is composite.\n"
     ]
    }
   ],
   "source": [
    "# WAP to find if the number is prime or composite [ using break statement]\n",
    "\n",
    "# prime=(2,3,5,7,11)\n",
    "# composite=(4,6,8,9,10)\n",
    "\n",
    "num=int(input(\"Enter any number greater than 1: \"))\n",
    "for i in range(2,num):\n",
    "    if num%i==0:\n",
    "        print(\"The given number is composite.\")\n",
    "        break\n",
    "else:\n",
    "    print(\"The given number is prime.\")\n",
    "    \n",
    "\n",
    "    \n",
    "\n",
    "\n"
   ]
  },
  {
   "cell_type": "code",
   "execution_count": null,
   "id": "980e7336",
   "metadata": {},
   "outputs": [],
   "source": [
    "# WAP to find if the number is prime or composite (mine)\n",
    "c=0\n",
    "num=int(input(\"Enter any number greater than 1: \"))\n",
    "for i in range(2,num+1):\n",
    "    if num%i==0:\n",
    "        c+=1\n",
    "if c==2:\n",
    "    print(\"The given number is prime.\")\n",
    "else:\n",
    "    print(\"The given number is composite.\")\n",
    "    \n",
    "\n",
    "    \n",
    "\n",
    "\n"
   ]
  },
  {
   "cell_type": "code",
   "execution_count": null,
   "id": "e25e9509",
   "metadata": {},
   "outputs": [
    {
     "name": "stdout",
     "output_type": "stream",
     "text": [
      "0\n",
      "1\n",
      "2\n",
      "3\n",
      "4\n",
      "5\n"
     ]
    }
   ],
   "source": [
    "# While loop\n",
    "\n",
    "i=0    # initialization\n",
    "while i<50:   #declaration\n",
    "    if i==6:\n",
    "      break\n",
    "    print(i)\n",
    "    i+=1      # increment\n",
    "\n",
    "\n",
    "     "
   ]
  },
  {
   "cell_type": "code",
   "execution_count": null,
   "id": "888cd2ff",
   "metadata": {},
   "outputs": [
    {
     "name": "stdout",
     "output_type": "stream",
     "text": [
      "0\n",
      "1\n",
      "2\n",
      "3\n",
      "4\n",
      "5\n"
     ]
    }
   ],
   "source": [
    "i=0   \n",
    "while i<50:  \n",
    "    if i==6:\n",
    "      continue    # Loop will only run for 6 times \n",
    "    print(i)\n",
    "    i+=1      \n",
    "\n"
   ]
  },
  {
   "cell_type": "code",
   "execution_count": 2,
   "id": "0b0dbb57",
   "metadata": {},
   "outputs": [
    {
     "name": "stdout",
     "output_type": "stream",
     "text": [
      "0\n",
      "1\n",
      "2\n",
      "3\n",
      "4\n",
      "5\n",
      "7\n",
      "8\n",
      "9\n",
      "10\n",
      "11\n",
      "12\n",
      "13\n",
      "14\n"
     ]
    }
   ],
   "source": [
    "i=0   \n",
    "while i<15:  \n",
    "    if i==6:\n",
    "        i+=1\n",
    "        continue     \n",
    "    print(i)\n",
    "    i+=1  "
   ]
  },
  {
   "cell_type": "code",
   "execution_count": 3,
   "id": "66a77ff5",
   "metadata": {},
   "outputs": [
    {
     "name": "stdout",
     "output_type": "stream",
     "text": [
      "3 x 1 = 3\n",
      "3 x 2 = 6\n",
      "3 x 3 = 9\n",
      "3 x 4 = 12\n",
      "3 x 5 = 15\n",
      "3 x 6 = 18\n",
      "3 x 7 = 21\n",
      "3 x 8 = 24\n",
      "3 x 9 = 27\n",
      "3 x 10 = 30\n"
     ]
    }
   ],
   "source": [
    "# WAP using while loop to print the multiplication table\n",
    "\n",
    "i=1\n",
    "num=int(input(\"Enter any number: \"))\n",
    "while i<=10:\n",
    "    print(f\"{num} x {i} = {num*i}\")\n",
    "    i+=1"
   ]
  },
  {
   "cell_type": "code",
   "execution_count": 1,
   "id": "b1187f81",
   "metadata": {},
   "outputs": [
    {
     "name": "stdout",
     "output_type": "stream",
     "text": [
      "The sum is  15\n"
     ]
    }
   ],
   "source": [
    "# WAP to calculate the sum of the given numbers \n",
    "\n",
    "num=int(input(\"Enter any number: \"))\n",
    "i=0\n",
    "sum=0\n",
    "while(i<=num):\n",
    "    sum+=i\n",
    "    i+=1\n",
    "print(\"The sum is \",sum)"
   ]
  },
  {
   "cell_type": "code",
   "execution_count": null,
   "id": "049c7096",
   "metadata": {},
   "outputs": [],
   "source": []
  }
 ],
 "metadata": {
  "kernelspec": {
   "display_name": "Python 3",
   "language": "python",
   "name": "python3"
  },
  "language_info": {
   "codemirror_mode": {
    "name": "ipython",
    "version": 3
   },
   "file_extension": ".py",
   "mimetype": "text/x-python",
   "name": "python",
   "nbconvert_exporter": "python",
   "pygments_lexer": "ipython3",
   "version": "3.13.1"
  }
 },
 "nbformat": 4,
 "nbformat_minor": 5
}
