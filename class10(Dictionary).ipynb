{
 "cells": [
  {
   "cell_type": "code",
   "execution_count": null,
   "id": "cb6c6beb",
   "metadata": {},
   "outputs": [],
   "source": [
    "# Dictionary \n",
    "# - Indexing\n",
    "# - Key-value pairs\n",
    "# - Dictionaries are mutable\n",
    "# - Dictionaries are ordered\n",
    "# - Multiple and duplicate values"
   ]
  },
  {
   "cell_type": "markdown",
   "id": "22063c5e",
   "metadata": {},
   "source": [
    "d={<key>:<value>,<key2>:<value2>,.......}"
   ]
  },
  {
   "cell_type": "code",
   "execution_count": 4,
   "id": "37df7271",
   "metadata": {},
   "outputs": [
    {
     "name": "stdout",
     "output_type": "stream",
     "text": [
      "{'a': 'Apple', 'b': 'Ball', 'c': 'Cat', 'A': 'Apple'}\n"
     ]
    }
   ],
   "source": [
    "d={'a':'Apple','b':'Ball','c':'Cat','A':'Apple'}  # key should be unique each time.\n",
    "print(d)  # {'a': 'Apple', 'b': 'Ball', 'c':"
   ]
  },
  {
   "cell_type": "code",
   "execution_count": 3,
   "id": "1b0ccfcd",
   "metadata": {},
   "outputs": [
    {
     "name": "stdout",
     "output_type": "stream",
     "text": [
      "Ball\n"
     ]
    }
   ],
   "source": [
    "print(d['b'])"
   ]
  },
  {
   "cell_type": "code",
   "execution_count": 5,
   "id": "6a748fb0",
   "metadata": {},
   "outputs": [
    {
     "name": "stdout",
     "output_type": "stream",
     "text": [
      "Ant\n",
      "Ball\n"
     ]
    }
   ],
   "source": [
    "d={'a':'Apple','b':'Ball','c':'Cat','a':'Ant'} # Mutable\n",
    "print(d['a'])\n",
    "print(d['b'])"
   ]
  },
  {
   "cell_type": "code",
   "execution_count": 7,
   "id": "c92ed355",
   "metadata": {},
   "outputs": [
    {
     "name": "stdout",
     "output_type": "stream",
     "text": [
      "a\n",
      "b\n",
      "c\n"
     ]
    }
   ],
   "source": [
    "d={'a':'Apple','b':'Ball','c':'Cat','a':'Ant'} \n",
    "for i in d:\n",
    "    print(i)\n"
   ]
  },
  {
   "cell_type": "code",
   "execution_count": 9,
   "id": "0111f8bb",
   "metadata": {},
   "outputs": [
    {
     "name": "stdout",
     "output_type": "stream",
     "text": [
      "Ant\n",
      "Ball\n",
      "Cat\n"
     ]
    }
   ],
   "source": [
    "d={'a':'Apple','b':'Ball','c':'Cat','a':'Ant'} \n",
    "for i in d.values():\n",
    "    print(i)"
   ]
  },
  {
   "cell_type": "code",
   "execution_count": 10,
   "id": "a22300ee",
   "metadata": {},
   "outputs": [
    {
     "name": "stdout",
     "output_type": "stream",
     "text": [
      "('a', 'Ant')\n",
      "('b', 'Ball')\n",
      "('c', 'Cat')\n"
     ]
    }
   ],
   "source": [
    "d={'a':'Apple','b':'Ball','c':'Cat','a':'Ant'} \n",
    "for i in d.items():\n",
    "    print(i)"
   ]
  },
  {
   "cell_type": "code",
   "execution_count": 11,
   "id": "2d5aa968",
   "metadata": {},
   "outputs": [
    {
     "name": "stdout",
     "output_type": "stream",
     "text": [
      "{'a': 'apple', 'b': 'ball', 'c': 'cat'}\n"
     ]
    }
   ],
   "source": [
    "d=[['a','apple'],['b','ball'],['c','cat']]\n",
    "print(dict(d))\n"
   ]
  },
  {
   "cell_type": "code",
   "execution_count": 12,
   "id": "e0b68c6b",
   "metadata": {},
   "outputs": [
    {
     "name": "stdout",
     "output_type": "stream",
     "text": [
      "{'a': 'apple', 'b': 'ball', 'c': 'cat'}\n"
     ]
    }
   ],
   "source": [
    "# CRUD\n",
    "d={}\n",
    "d['a']='apple'\n",
    "d['b']='ball'\n",
    "d['c']='cat'\n",
    "print(d)"
   ]
  },
  {
   "cell_type": "code",
   "execution_count": 14,
   "id": "375db15f",
   "metadata": {},
   "outputs": [
    {
     "name": "stdout",
     "output_type": "stream",
     "text": [
      "{'swwraj': '3245', 'rhauk': '234', 'hari': '2345'}\n"
     ]
    }
   ],
   "source": [
    "d={}\n",
    "n=int(input(\"Enter n: \"))\n",
    "for i in range(n):\n",
    "    name=input(\"Enter name of the person: \")\n",
    "    phone=input(\"Enter the phone number: \")\n",
    "    d[name]=phone\n",
    "print(d)"
   ]
  },
  {
   "cell_type": "code",
   "execution_count": null,
   "id": "f03bb76d",
   "metadata": {},
   "outputs": [
    {
     "name": "stdout",
     "output_type": "stream",
     "text": [
      "{'b': 'ball', 'c': 'cat'}\n"
     ]
    }
   ],
   "source": [
    "#delete\n",
    "# 1) del['key']\n",
    "# 2) pop()\n",
    "\n",
    "# To delete using del['key']\n",
    "d={'a': 'apple', 'b': 'ball', 'c': 'cat'}\n",
    "del d['a']\n",
    "print(d)\n"
   ]
  },
  {
   "cell_type": "code",
   "execution_count": null,
   "id": "da85e1b6",
   "metadata": {},
   "outputs": [
    {
     "name": "stdout",
     "output_type": "stream",
     "text": [
      "ball\n",
      "{'a': 'apple', 'c': 'cat'}\n"
     ]
    }
   ],
   "source": [
    "# To delete using pop\n",
    "d={'a': 'apple', 'b': 'ball', 'c': 'cat'}\n",
    "new=d.pop('b')  # It assigns the value of key into new variable\n",
    "print(new)\n",
    "print(d)"
   ]
  },
  {
   "cell_type": "code",
   "execution_count": 18,
   "id": "7f00c46f",
   "metadata": {},
   "outputs": [
    {
     "name": "stdout",
     "output_type": "stream",
     "text": [
      "{'a': 'ant', 'b': 'ball', 'c': 'cat'}\n"
     ]
    }
   ],
   "source": [
    "# Update\n",
    "d={'a': 'apple', 'b': 'ball', 'c': 'cat'}\n",
    "d['a']='ant'\n",
    "print(d)"
   ]
  },
  {
   "cell_type": "code",
   "execution_count": 19,
   "id": "ec1f1d5d",
   "metadata": {},
   "outputs": [
    {
     "name": "stdout",
     "output_type": "stream",
     "text": [
      "{'Ram': [9812345678, 9814267110], 'Shyam': [98042715346, 9845097307], 'Rahul': [9876543210, 9876543210]}\n"
     ]
    }
   ],
   "source": [
    "# List  inside dictniory\n",
    "d={\n",
    "    'Ram':[9812345678,9814267110],\n",
    "    'Shyam':[98042715346,9845097307],\n",
    "    'Rahul':[9876543210,9876543210],\n",
    "}\n",
    "print(d)"
   ]
  },
  {
   "cell_type": "code",
   "execution_count": null,
   "id": "441ec4f1",
   "metadata": {},
   "outputs": [
    {
     "name": "stdout",
     "output_type": "stream",
     "text": [
      "[9812345678, 9814267110, [1, 2]]\n"
     ]
    }
   ],
   "source": [
    "d={\n",
    "    'Ram':[9812345678,9814267110,[1,2]],\n",
    "    'Shyam':[98042715346,9845097307],\n",
    "    'Rahul':[9876543210,9876543210],\n",
    "}\n",
    "name=input(\"Enter the name: \")\n",
    "number=int(input(\"Enter 1 fo ntc and 0 for ncell: \"))\n",
    "\n",
    "print(d[name][number])\n"
   ]
  },
  {
   "cell_type": "code",
   "execution_count": 22,
   "id": "d097f4bc",
   "metadata": {},
   "outputs": [
    {
     "data": {
      "text/plain": [
       "{'name': ['Ram', 'Shyam', 'Hari'],\n",
       " 'ntc': [123, 456, 789],\n",
       " 'ncell': [321, 654, 987]}"
      ]
     },
     "execution_count": 22,
     "metadata": {},
     "output_type": "execute_result"
    }
   ],
   "source": [
    "# For multiple name \n",
    "\n",
    "d={\n",
    "    'name':['Ram', 'Shyam','Hari'],\n",
    "    'ntc':[123,456,789],\n",
    "    'ncell':[321,654,987]\n",
    "}\n",
    "d"
   ]
  },
  {
   "cell_type": "code",
   "execution_count": 11,
   "id": "49aed87a",
   "metadata": {},
   "outputs": [
    {
     "name": "stdout",
     "output_type": "stream",
     "text": [
      "{'name': ['Ram', 'Shyam', 'Hari'], 'ntc': [1111111, 3333333, 2222222], 'ncell': [321, 654, 987]}\n"
     ]
    }
   ],
   "source": [
    "# To update the ntc num od RAM,Shyam, Hari\n",
    "d={\n",
    "    'name':['Ram', 'Shyam','Hari'],\n",
    "    'ntc':[123,456,789],\n",
    "    'ncell':[321,654,987]\n",
    "}\n",
    "d['ntc'][0]=1111111\n",
    "d['ntc'][1]=3333333\n",
    "d['ntc'][2]=2222222\n",
    "print(d)"
   ]
  },
  {
   "cell_type": "code",
   "execution_count": null,
   "id": "37ffd039",
   "metadata": {},
   "outputs": [
    {
     "data": {
      "text/plain": [
       "{'name': ['Ram', 'Shyam', 'Hari'], 'ntc': [456], 'ncell': [321, 654, 987]}"
      ]
     },
     "execution_count": 13,
     "metadata": {},
     "output_type": "execute_result"
    }
   ],
   "source": [
    "d={\n",
    "    'name':['Ram', 'Shyam','Hari'],\n",
    "    'ntc':[123,456,789],\n",
    "    'ncell':[321,654,987]\n",
    "}\n",
    "del d['ntc'][0]\n",
    "d\n"
   ]
  },
  {
   "cell_type": "code",
   "execution_count": 14,
   "id": "afaae09a",
   "metadata": {},
   "outputs": [
    {
     "data": {
      "text/plain": [
       "{1: {'name': 'Ram', 'ntc': 9804271546, 'ncell': 9800000000},\n",
       " 2: {'name': 'Shyam', 'ntc': 9804271545, 'ncell': 9811111111},\n",
       " 3: {'name': 'Hari', 'ntc': 9804271544, 'ncell': 9822222222}}"
      ]
     },
     "execution_count": 14,
     "metadata": {},
     "output_type": "execute_result"
    }
   ],
   "source": [
    "# nested Dictionary\n",
    "d={\n",
    "    1:{'name':'Ram','ntc':9804271546,'ncell':9800000000},\n",
    "    2:{'name':'Shyam','ntc':9804271545,'ncell':9811111111},\n",
    "    3:{'name':'Hari','ntc':9804271544,'ncell':9822222222}\n",
    "}\n",
    "d"
   ]
  },
  {
   "cell_type": "code",
   "execution_count": 15,
   "id": "6f993f42",
   "metadata": {},
   "outputs": [
    {
     "data": {
      "text/plain": [
       "'Ram'"
      ]
     },
     "execution_count": 15,
     "metadata": {},
     "output_type": "execute_result"
    }
   ],
   "source": [
    "d[1]['name']"
   ]
  },
  {
   "cell_type": "code",
   "execution_count": null,
   "id": "002aab77",
   "metadata": {},
   "outputs": [
    {
     "data": {
      "text/plain": [
       "{1: {'name': 'Ram',\n",
       "  'ntc': 9804271546,\n",
       "  'ncell': 9800000000,\n",
       "  'smart': 9765888593},\n",
       " 2: {'name': 'Shyam', 'ntc': 9804271545, 'ncell': 9811111111},\n",
       " 3: {'name': 'Hari', 'ntc': 9804271544, 'ncell': 9822222222}}"
      ]
     },
     "execution_count": 16,
     "metadata": {},
     "output_type": "execute_result"
    }
   ],
   "source": [
    "#To add new number\n",
    "d={\n",
    "    1:{'name':'Ram','ntc':9804271546,'ncell':9800000000},\n",
    "    2:{'name':'Shyam','ntc':9804271545,'ncell':9811111111},\n",
    "    3:{'name':'Hari','ntc':9804271544,'ncell':9822222222}\n",
    "}\n",
    "d[1]['smart']=9765888593\n",
    "d"
   ]
  },
  {
   "cell_type": "markdown",
   "id": "603afcbb",
   "metadata": {},
   "source": [
    " Take subject marks, create total, percentage, grade then\n",
    " \n",
    " WAP to create list inside dict and CRUD(Create Read Update and Delete)\n",
    " WAP to create dict inside list and CRUD(Create Read Update and Delete)\n",
    " WAP to create dict inside dict and CRUD(Create Read Update and Delete)"
   ]
  },
  {
   "cell_type": "code",
   "execution_count": 24,
   "id": "6a58cfba",
   "metadata": {},
   "outputs": [
    {
     "name": "stdout",
     "output_type": "stream",
     "text": [
      "{'Subjects': ['Physics', 'Chemistry', 'Maths'], 'Marks': [88.0, 99.0, 99.0], 'Total': 286.0, 'Percentage': 95.33333333333333, 'Grade': 'A+'}\n"
     ]
    }
   ],
   "source": [
    "# List inside Dictionary\n",
    "\n",
    "p=float(input(\"Enter the physics marks: \"))\n",
    "c=float(input(\"Enter the chemistry marks: \"))\n",
    "m=float(input(\"Enter the maths marks: \"))\n",
    "total=p+c+m\n",
    "percent=total/3\n",
    "if percent>90 and percent<=100:\n",
    "    grade='A+'\n",
    "elif percent>80 and percent<=90:\n",
    "    grade='A'\n",
    "elif percent>70 and percent<=80:\n",
    "    grade='B+'\n",
    "elif percent>60 and percent<=70:\n",
    "    grade='B'\n",
    "elif percent>50 and percent<=60:\n",
    "    grade='C+'\n",
    "elif percent>40 and percent<=50:\n",
    "    grade='C'\n",
    "else:\n",
    "    grade='Fail'\n",
    "# d = {\n",
    "#     'subjects': [[f'physics = {p}'], [f'chem = {c}']],\n",
    "#     'marks': [90, 85, 95]\n",
    "# }\n",
    "# print(d)\n",
    "\n",
    "d = {\n",
    "    'Subjects': ['Physics', 'Chemistry', 'Maths'],\n",
    "    'Marks': [p, c, m],\n",
    "    'Total':total,\n",
    "    'Percentage': percent,\n",
    "    'Grade':grade\n",
    "}\n",
    "print(d)\n"
   ]
  },
  {
   "cell_type": "code",
   "execution_count": 23,
   "id": "7c9b7f26",
   "metadata": {},
   "outputs": [
    {
     "name": "stdout",
     "output_type": "stream",
     "text": [
      "[{'physics': 88.0}, {'Chemistry': 99.0}, {'Maths': 99.0}, {'Total': 286.0}, {'Percentage': 95.33333333333333}, {'Grade': 'C+'}]\n"
     ]
    }
   ],
   "source": [
    "# Dict inside list\n",
    "p=float(input(\"Enter the physics marks: \"))\n",
    "c=float(input(\"Enter the chemistry marks: \"))\n",
    "m=float(input(\"Enter the maths marks: \"))\n",
    "total=p+c+m\n",
    "percent=total/3\n",
    "\n",
    "lst=[{'physics':p},{'Chemistry':c},{'Maths':m},{'Total':total},{'Percentage':percent},{'Grade':grade}]\n",
    "print(lst)"
   ]
  },
  {
   "cell_type": "code",
   "execution_count": 25,
   "id": "382f2edb",
   "metadata": {},
   "outputs": [
    {
     "name": "stdout",
     "output_type": "stream",
     "text": [
      "{'Subjects': {'Physics', 'Chemistry', 'Maths'}, 'Marks': {88.0, 99.0}, 'Total': 286.0, 'Percentage': 95.33333333333333, 'Grade': 'A+'}\n"
     ]
    }
   ],
   "source": [
    "# Dict inside Dict\n",
    "\n",
    "p=float(input(\"Enter the physics marks: \"))\n",
    "c=float(input(\"Enter the chemistry marks: \"))\n",
    "m=float(input(\"Enter the maths marks: \"))\n",
    "total=p+c+m\n",
    "percent=total/3\n",
    "dict={\n",
    "    'Subjects':{'Physics','Chemistry','Maths'},\n",
    "    'Marks':{p,c,m},\n",
    "    'Total':total,\n",
    "    'Percentage':percent,\n",
    "    'Grade':grade\n",
    "}\n",
    "print(dict)"
   ]
  },
  {
   "cell_type": "code",
   "execution_count": null,
   "id": "360ed2a7",
   "metadata": {},
   "outputs": [],
   "source": []
  }
 ],
 "metadata": {
  "kernelspec": {
   "display_name": "Python 3",
   "language": "python",
   "name": "python3"
  },
  "language_info": {
   "codemirror_mode": {
    "name": "ipython",
    "version": 3
   },
   "file_extension": ".py",
   "mimetype": "text/x-python",
   "name": "python",
   "nbconvert_exporter": "python",
   "pygments_lexer": "ipython3",
   "version": "3.13.1"
  }
 },
 "nbformat": 4,
 "nbformat_minor": 5
}
