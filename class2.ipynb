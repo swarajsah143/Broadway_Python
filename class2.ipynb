{
 "cells": [
  {
   "cell_type": "markdown",
   "id": "4c47da24",
   "metadata": {},
   "source": [
    "#Typer casting\n",
    "int() str() float() bool()"
   ]
  },
  {
   "cell_type": "code",
   "execution_count": 3,
   "id": "3c079544",
   "metadata": {},
   "outputs": [
    {
     "name": "stdout",
     "output_type": "stream",
     "text": [
      "10.0\n"
     ]
    }
   ],
   "source": [
    "a=10\n",
    "b=float(a)  #converting int into float\n",
    "print(b)"
   ]
  },
  {
   "cell_type": "code",
   "execution_count": 4,
   "id": "90f5118a",
   "metadata": {},
   "outputs": [
    {
     "name": "stdout",
     "output_type": "stream",
     "text": [
      "10\n"
     ]
    }
   ],
   "source": [
    "c=str(a)  # int into string\n",
    "print(c)"
   ]
  },
  {
   "cell_type": "code",
   "execution_count": 5,
   "id": "8133011c",
   "metadata": {},
   "outputs": [
    {
     "name": "stdout",
     "output_type": "stream",
     "text": [
      "True\n",
      "The history saving thread hit an unexpected error (OperationalError('database or disk is full')).History will not be written to the database.\n"
     ]
    }
   ],
   "source": [
    "a=1\n",
    "b=bool(a)\n",
    "print(b)"
   ]
  },
  {
   "cell_type": "code",
   "execution_count": null,
   "id": "4b33aee8",
   "metadata": {},
   "outputs": [
    {
     "name": "stdout",
     "output_type": "stream",
     "text": [
      "True\n"
     ]
    }
   ],
   "source": [
    "a=\"hello\"\n",
    "b=bool(a)  # Non-empty strings are considered True, while empty strings are False\n",
    "print(b)\n"
   ]
  },
  {
   "cell_type": "code",
   "execution_count": 11,
   "id": "c5827306",
   "metadata": {},
   "outputs": [
    {
     "name": "stdout",
     "output_type": "stream",
     "text": [
      "My name is  Hyper\n"
     ]
    }
   ],
   "source": [
    "# Input/ Output\n",
    "\n",
    "a=input(\"Enter your name: \")\n",
    "print(\"My name is \",a)"
   ]
  },
  {
   "cell_type": "code",
   "execution_count": 16,
   "id": "4ca1975c",
   "metadata": {},
   "outputs": [
    {
     "name": "stdout",
     "output_type": "stream",
     "text": [
      "The sum of 22 and 1 is  23\n"
     ]
    }
   ],
   "source": [
    "num1=int(input(\"Enter the 1st number: \"))\n",
    "num2=int(input(\"Enter the 2nd number: \"))\n",
    "sum=num1+num2\n",
    "print(f\"The sum of {num1} and {num2} is \",sum)\n"
   ]
  },
  {
   "cell_type": "code",
   "execution_count": null,
   "id": "dcc180bc",
   "metadata": {},
   "outputs": [
    {
     "name": "stdout",
     "output_type": "stream",
     "text": [
      "The Simple interest is  93.84\n"
     ]
    }
   ],
   "source": [
    "p=int(input(\"Enter the value of Principle: \"))\n",
    "t=float(input(\"Enter the value of Time: \"))\n",
    "r=float(input(\"Enter the value of Rate: \"))\n",
    "SI=(p*t*r)/100\n",
    "print(\"The Simple interest is \",SI)"
   ]
  },
  {
   "cell_type": "code",
   "execution_count": null,
   "id": "7496dd4d",
   "metadata": {},
   "outputs": [
    {
     "name": "stdout",
     "output_type": "stream",
     "text": [
      "Entered marks are invalid!!\n",
      "You have secured 99 marks in Physics\n",
      "You have secured 99 marks in Chemistry \n",
      "You have secured 99 marks in Maths \n",
      "You have entered invalid marks for English.\n",
      "You have secured 99 marks in Nepali \n",
      "You have secured 99 marks in Computer \n"
     ]
    }
   ],
   "source": [
    "# WAP to create the marksheet for a student.\n",
    "\n",
    "p=int(input(\"Enter the marks obtained in Physics: \"))\n",
    "c=int(input(\"Enter the marks obtained in chemistry: \"))\n",
    "m=int(input(\"Enter the marks obtained in maths: \"))\n",
    "e=int(input(\"Enter the marks obtained in english: \"))\n",
    "n=int(input(\"Enter the marks obtained in nepali: \"))\n",
    "com=int(input(\"Enter the marks obtained in computer: \"))\n",
    "Obt= p+c+m+com+n+e\n",
    "per=float((Obt/600)*100)\n",
    "\n",
    "if(per>=0 and per<=100):\n",
    "    print(\"The total marks obtained is \",Obt)\n",
    "    print(\"The total percentage is \",per)\n",
    "\n",
    "    if(per>=90 and per<=100):\n",
    "        print(\"Congratulation! you have secured A+\")\n",
    "    elif(per>=80 and per<90):\n",
    "        print(\"Congratulation! you have secured A\")\n",
    "    elif(per>=70 and per<80):\n",
    "        print(\"Congratulation! you have secured B+\")\n",
    "    elif(per>=60 and per<70):\n",
    "        print(\"Congratulation! you have secured B\")\n",
    "    elif(per>=50 and per<60):\n",
    "        print(\"Congratulation! you have secured C+\")\n",
    "    elif(per>=40 and per<50):\n",
    "        print(\"Congratulation! you have secured C\")\n",
    "    else:\n",
    "        print(\"Sorry, you are failed! \")\n",
    "else:\n",
    "    print(\"Entered marks are invalid!!\")\n",
    "if(p>=0 and p<40):\n",
    "    print(\"You are failed in Physics.\")\n",
    "elif(p>=40 and p<=100):\n",
    "    print(f\"You have secured {p} marks in Physics\")\n",
    "else:\n",
    "    print(\"You have entered invalid marks for Physics.\")\n",
    "if(c>=0 and c<40):\n",
    "    print(\"You are failed in Chemistry.\")\n",
    "elif(c>=40 and c<=100):\n",
    "    print(f\"You have secured {c} marks in Chemistry \")\n",
    "else:\n",
    "    print(\"You have entered invalid marks for Chemistry.\")\n",
    "if(m>=0 and m<40):\n",
    "    print(\"You are failed in Maths.\")\n",
    "elif(m>=40 and m<=100):\n",
    "    print(f\"You have secured {m} marks in Maths \")\n",
    "else:\n",
    "    print(\"You have entered invalid marks for Maths.\")\n",
    "if(e>=0 and e<40):\n",
    "    print(\"You are failed in English.\")\n",
    "elif(e>=40 and e<=100):\n",
    "    print(f\"You have secured {e} marks in English \")\n",
    "else:\n",
    "    print(\"You have entered invalid marks for English.\")\n",
    "if(n>=0 and n<40):\n",
    "    print(\"You are failed in Nepali.\")\n",
    "elif(n>=40 and n<=100):\n",
    "    print(f\"You have secured {n} marks in Nepali \")\n",
    "else:\n",
    "    print(\"You have entered invalid marks for Nepali.\")\n",
    "if(com>=0 and com<40):\n",
    "    print(\"You are failed in Computer.\")\n",
    "elif(com>=40 and com<=100):\n",
    "    print(f\"You have secured {com} marks in Computer \")\n",
    "else:\n",
    "    print(\"You have entered invalid marks for Computer.\")\n",
    "\n",
    "\n"
   ]
  },
  {
   "cell_type": "markdown",
   "id": "efa9c33a",
   "metadata": {},
   "source": [
    "name=\"Swaraj\"\n",
    "age=19\n",
    "grade=12\n",
    "info=name+age+grade\n",
    "print(info)\n",
    "\n",
    "This doesnot work because we cannot add strings with integer"
   ]
  },
  {
   "cell_type": "code",
   "execution_count": null,
   "id": "ea028744",
   "metadata": {},
   "outputs": [
    {
     "name": "stdout",
     "output_type": "stream",
     "text": [
      "My name is swraj and I am  74  years old. I am from tripur.\n"
     ]
    }
   ],
   "source": [
    "name=input(\"Enter your name: \")\n",
    "age=74\n",
    "add=input(\"Enter your address: \")\n",
    "print(\"My name is \"+name+\" and I am \",age,\" years old.\"+\" I am from \"+add+\".\")"
   ]
  }
 ],
 "metadata": {
  "kernelspec": {
   "display_name": "Python 3",
   "language": "python",
   "name": "python3"
  },
  "language_info": {
   "codemirror_mode": {
    "name": "ipython",
    "version": 3
   },
   "file_extension": ".py",
   "mimetype": "text/x-python",
   "name": "python",
   "nbconvert_exporter": "python",
   "pygments_lexer": "ipython3",
   "version": "3.13.1"
  }
 },
 "nbformat": 4,
 "nbformat_minor": 5
}
