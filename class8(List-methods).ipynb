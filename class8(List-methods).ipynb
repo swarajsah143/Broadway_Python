{
 "cells": [
  {
   "cell_type": "markdown",
   "id": "447f186c",
   "metadata": {},
   "source": [
    "# Python collection\n",
    "1) List\n",
    "2) Tuple\n",
    "3) Dictionary\n",
    "4) Set"
   ]
  },
  {
   "cell_type": "markdown",
   "id": "49f48c14",
   "metadata": {},
   "source": [
    "#List\n",
    "-Indexing\n",
    "-Ordered\n",
    "-Multiople and Duplicate data\n",
    "-Mutable\n",
    "\n",
    "- We cannot print lst.sort(), lst.append(\"hyper\") because the original value changes directly there"
   ]
  },
  {
   "cell_type": "code",
   "execution_count": 4,
   "id": "f65f1817",
   "metadata": {},
   "outputs": [
    {
     "name": "stdout",
     "output_type": "stream",
     "text": [
      "['Apple', 'Ball', 'Cat', 'Cat']\n",
      "[1, 2, 3, 5, 6, 4, 7, 8]\n",
      "['Apple', 1, 2, 'Ball', 4, 3, 1, 'Cat']\n"
     ]
    }
   ],
   "source": [
    "l=[\"Apple\",\"Ball\",\"Cat\",\"Cat\"]\n",
    "n=[1,2,3,5,6,4,7,8]\n",
    "ln=[\"Apple\",1,2,\"Ball\",4,3,1,\"Cat\"]\n",
    "print(l)\n",
    "print(n)\n",
    "print(ln)\n"
   ]
  },
  {
   "cell_type": "code",
   "execution_count": 6,
   "id": "ca4dca20",
   "metadata": {},
   "outputs": [
    {
     "name": "stdout",
     "output_type": "stream",
     "text": [
      "Apple\n",
      "Cat\n",
      "['Apple', 'Ball']\n"
     ]
    }
   ],
   "source": [
    "#Indexing and slicing\n",
    "l=[\"Apple\",\"Ball\",\"Cat\",\"Cat\"]\n",
    "print(l[0])\n",
    "print(l[2])\n",
    "\n",
    "print(l[0:2])\n"
   ]
  },
  {
   "cell_type": "code",
   "execution_count": 9,
   "id": "7f7a3e0e",
   "metadata": {},
   "outputs": [
    {
     "name": "stdout",
     "output_type": "stream",
     "text": [
      "Apple\n",
      "Ball\n",
      "Cat\n",
      "Cat\n"
     ]
    }
   ],
   "source": [
    "l=[\"Apple\",\"Ball\",\"Cat\",\"Cat\"]\n",
    "for i in l:\n",
    "    print(i)"
   ]
  },
  {
   "cell_type": "code",
   "execution_count": 11,
   "id": "e9470da4",
   "metadata": {},
   "outputs": [
    {
     "name": "stdout",
     "output_type": "stream",
     "text": [
      "Apple\n",
      "Ball\n",
      "Cat\n",
      "Cat\n"
     ]
    }
   ],
   "source": [
    "# Using range\n",
    "l=[\"Apple\",\"Ball\",\"Cat\",\"Cat\"]\n",
    "for i in range(len(l)):\n",
    "    print(l[i])"
   ]
  },
  {
   "cell_type": "code",
   "execution_count": 21,
   "id": "fd34f976",
   "metadata": {},
   "outputs": [
    {
     "name": "stdout",
     "output_type": "stream",
     "text": [
      "['1', '2', 'sss', 'ae']\n",
      "['1', '2', 'ae', 'sss']\n"
     ]
    }
   ],
   "source": [
    "# WAP to take value from the user and add it into the list\n",
    "# append()-- add value one by one\n",
    "# insert()-- add value to the desired index\n",
    "# extend()-- add all the value at once\n",
    "\n",
    "lst=[]\n",
    "n=int(input(\"How many items do you want to enter: \"))\n",
    "for i in range(n):\n",
    "    val=input(f\"Enter the {i+1} item: \")\n",
    "    lst.append(val)\n",
    "print(lst)\n",
    "lst.sort()\n",
    "print(lst)"
   ]
  },
  {
   "cell_type": "code",
   "execution_count": 20,
   "id": "de8fb1f1",
   "metadata": {},
   "outputs": [
    {
     "name": "stdout",
     "output_type": "stream",
     "text": [
      "The sum of all the items is  3\n",
      "The min value of all the items is  1\n",
      "The max value of all the items is  2\n",
      "The average value of all the items is  1.5\n",
      "In ascending order [1, 2]\n",
      "In decending order [2, 1]\n"
     ]
    }
   ],
   "source": [
    "lst=[]\n",
    "n=int(input(\"How many items do you want to enter: \"))\n",
    "for i in range(n):\n",
    "    num=int(input(f\"Enter the {i+1} number: \"))\n",
    "    lst.append(num)\n",
    "\n",
    "print(\"The sum of all the items is \",sum(lst))\n",
    "print(\"The min value of all the items is \",min(lst))\n",
    "print(\"The max value of all the items is \",max(lst))\n",
    "print(\"The average value of all the items is \",sum(lst)/len(lst))\n",
    "lst.sort()\n",
    "print(\"In ascending order\",lst)\n",
    "lst.reverse()\n",
    "print(\"In decending order\",lst)"
   ]
  },
  {
   "cell_type": "markdown",
   "id": "722a11bf",
   "metadata": {},
   "source": [
    "#Priority for sorting list \n",
    "\n",
    "special character\n",
    "number\n",
    "uppercase\n",
    "lowercase\n",
    "but only in case of same data type, for eg: string- all datatype should be in string"
   ]
  },
  {
   "cell_type": "code",
   "execution_count": null,
   "id": "a64d86b4",
   "metadata": {},
   "outputs": [
    {
     "name": "stdout",
     "output_type": "stream",
     "text": [
      "[',@', '.cat', '1', '@', 'Apple', 'Ball', 'Cat', 'cat']\n",
      "['cat', 'Cat', 'Ball', 'Apple', '@', '1', '.cat', ',@']\n",
      "['cat', 'Cat', 'Ball', 'Apple', '@', '1', '.cat', ',@', 'ram']\n"
     ]
    }
   ],
   "source": [
    "l=[\"Apple\",\"Ball\",\"Cat\",\"cat\",\".cat\",\",@\",\"@\",\"1\"]\n",
    "l.sort()\n",
    "print(l)\n",
    "l.sort(reverse=True)\n",
    "print(l)\n",
    "\n"
   ]
  },
  {
   "cell_type": "code",
   "execution_count": null,
   "id": "59ca1379",
   "metadata": {},
   "outputs": [
    {
     "name": "stdout",
     "output_type": "stream",
     "text": [
      "['cat', 'Cat', 'Ball', 'Apple', '@', '1', '.cat', ',@', 'ram', 'ram']\n"
     ]
    }
   ],
   "source": [
    "# append\n",
    "l.append(\"ram\")   # go at the last \n",
    "print(l)"
   ]
  },
  {
   "cell_type": "code",
   "execution_count": null,
   "id": "881e1f6e",
   "metadata": {},
   "outputs": [
    {
     "name": "stdout",
     "output_type": "stream",
     "text": [
      "['cat', 'Banana', 'Cat', 'Ball', 'Apple', '@', '1', '.cat', ',@', 'ram', 'ram']\n"
     ]
    }
   ],
   "source": [
    "# insert()  --- add on the desired index\n",
    "l.insert(1,\"Banana\")\n",
    "print(l)"
   ]
  },
  {
   "cell_type": "code",
   "execution_count": null,
   "id": "ee73b535",
   "metadata": {},
   "outputs": [
    {
     "name": "stdout",
     "output_type": "stream",
     "text": [
      "['Apple', 'Ball', 'Cat', 'cat', '.cat', ',@', '@', '1', 1, 2, 3, 4, 5]\n"
     ]
    }
   ],
   "source": [
    "# Extend()--- Add all the vale in the list\n",
    "lst1=[\"Apple\",\"Ball\",\"Cat\",\"cat\",\".cat\",\",@\",\"@\",\"1\"]\n",
    "lst2=[1,2,3,4,5]\n",
    "lst1.extend(lst2) \n",
    "print(lst1)\n",
    "\n"
   ]
  },
  {
   "cell_type": "code",
   "execution_count": null,
   "id": "ff9bfc60",
   "metadata": {},
   "outputs": [
    {
     "name": "stdout",
     "output_type": "stream",
     "text": [
      "['Apple', 'Ball', 'Cat', 'cat', '.cat', ',@', '@', '1', 1, 2, 3, 4, 5]\n"
     ]
    }
   ],
   "source": [
    "lst1=[\"Apple\",\"Ball\",\"Cat\",\"cat\",\".cat\",\",@\",\"@\",\"1\"]\n",
    "lst2=[1,2,3,4,5]\n",
    "lst1=lst1+lst2\n",
    "print(lst1)"
   ]
  },
  {
   "cell_type": "code",
   "execution_count": 20,
   "id": "09f69c57",
   "metadata": {},
   "outputs": [
    {
     "name": "stdout",
     "output_type": "stream",
     "text": [
      ",@\n",
      "syaau\n",
      "['Hyper', 'Sanu', 'Cat', 'cat', '.cat', 'syaau', '@', '1']\n",
      "['Swaraj', 'Cat', 'cat', '.cat', 'syaau', '@', '1']\n"
     ]
    }
   ],
   "source": [
    "# Update or Edit\n",
    "lst1=[\"Apple\",\"Ball\",\"Cat\",\"cat\",\".cat\",\",@\",\"@\",\"1\"]\n",
    "print(lst1[5])\n",
    "lst1[5]=\"syaau\"\n",
    "print(lst1[5])\n",
    "\n",
    "# For multiple changes\n",
    "\n",
    "lst1[0:2]=[\"Hyper\",\"Sanu\"]\n",
    "print(lst1)\n",
    "\n",
    "lst1[0:2]=[\"Swaraj\"] # keeps Swaraj for 2 index\n",
    "print(lst1)"
   ]
  },
  {
   "cell_type": "code",
   "execution_count": null,
   "id": "c19f7a75",
   "metadata": {},
   "outputs": [],
   "source": []
  }
 ],
 "metadata": {
  "kernelspec": {
   "display_name": "Python 3",
   "language": "python",
   "name": "python3"
  },
  "language_info": {
   "codemirror_mode": {
    "name": "ipython",
    "version": 3
   },
   "file_extension": ".py",
   "mimetype": "text/x-python",
   "name": "python",
   "nbconvert_exporter": "python",
   "pygments_lexer": "ipython3",
   "version": "3.13.1"
  }
 },
 "nbformat": 4,
 "nbformat_minor": 5
}
