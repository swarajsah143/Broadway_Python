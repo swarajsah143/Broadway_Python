{
 "cells": [
  {
   "cell_type": "markdown",
   "id": "e4c754de",
   "metadata": {},
   "source": [
    "WAP to create a basic calculator"
   ]
  },
  {
   "cell_type": "code",
   "execution_count": 2,
   "id": "fde215be",
   "metadata": {},
   "outputs": [
    {
     "name": "stdout",
     "output_type": "stream",
     "text": [
      "\n",
      "What do you want to perform?\n",
      "\n",
      "Press 1 for Addition\n",
      "Press 2 for Subtraction\n",
      "Press 3 for Multiplication\n",
      "Press 4 for Division\n",
      "\n",
      "The sum of two entered num is  3.0\n"
     ]
    }
   ],
   "source": [
    "num1=float(input(\"Enter the 1st number: \"))\n",
    "num2=float(input(\"Enter the 2nd number: \"))\n",
    "print(\"\\nWhat do you want to perform?\\n\")\n",
    "print(\"Press 1 for Addition\\nPress 2 for Subtraction\\nPress 3 for Multiplication\\nPress 4 for Division\\n\")\n",
    "user=int(input())\n",
    "if(user==1):\n",
    "    add=num1+num2\n",
    "    print(\"The sum of two entered num is \",add)\n",
    "elif(user==2):\n",
    "    sub=num1-num2\n",
    "    print(\"The difference of two entered num is \",sub)\n",
    "\n",
    "elif(user==3):\n",
    "    mult=num1*num2\n",
    "    print(\"The multiplication of two entered num is \",mult)\n",
    "\n",
    "elif(user==4 and num2!=0):\n",
    "    div=num1/num2\n",
    "    print(\"The division of two entered num is \",div)\n",
    "elif(user==4 and num2==0):\n",
    "    print(\"The value of num2 cannot be 0 \")\n",
    "\n",
    "else:\n",
    "    print(\"You have entered invalid number!\")\n",
    "\n",
    "\n",
    "\n",
    "\n",
    "\n"
   ]
  },
  {
   "cell_type": "code",
   "execution_count": null,
   "id": "91834c00",
   "metadata": {},
   "outputs": [
    {
     "name": "stdout",
     "output_type": "stream",
     "text": [
      "ENter + for addition\n",
      " enter - for sub\n",
      " enter / for division\n",
      " enter * for mul\n",
      "\n"
     ]
    }
   ],
   "source": [
    "#WAP to perform calculation \n",
    "\n",
    "# user---> +-/*\n",
    "\n",
    "#  1) user input magba ki kathi kareke ba \n",
    "#  2) user dii num aa hamni okra anusar perform karem san\n",
    "\n",
    "print((\"ENter + for addition\\n enter - for sub\\n enter / for division\\n enter * for mul\\n\"))\n"
   ]
  },
  {
   "cell_type": "code",
   "execution_count": null,
   "id": "c5e67c47",
   "metadata": {},
   "outputs": [],
   "source": []
  }
 ],
 "metadata": {
  "kernelspec": {
   "display_name": "Python 3",
   "language": "python",
   "name": "python3"
  },
  "language_info": {
   "codemirror_mode": {
    "name": "ipython",
    "version": 3
   },
   "file_extension": ".py",
   "mimetype": "text/x-python",
   "name": "python",
   "nbconvert_exporter": "python",
   "pygments_lexer": "ipython3",
   "version": "3.13.1"
  }
 },
 "nbformat": 4,
 "nbformat_minor": 5
}
