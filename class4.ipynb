{
 "cells": [
  {
   "cell_type": "markdown",
   "id": "b4f3cfed",
   "metadata": {},
   "source": [
    "#LOOPS\n",
    "\n",
    "1) for loop\n",
    "2) while loop\n"
   ]
  },
  {
   "cell_type": "markdown",
   "id": "4dc69550",
   "metadata": {},
   "source": [
    "range(5)       0,1,2,3,4\n",
    "range(1,5)     1,2,3,4\n",
    "range(1,10,2)  1,3,5,7,9\n"
   ]
  },
  {
   "cell_type": "code",
   "execution_count": 19,
   "id": "252f5888",
   "metadata": {},
   "outputs": [
    {
     "name": "stdout",
     "output_type": "stream",
     "text": [
      "1\n",
      "2\n",
      "3\n",
      "4\n",
      "5\n",
      "\n",
      "\n",
      "5\n",
      "4\n",
      "3\n",
      "2\n",
      "1\n"
     ]
    }
   ],
   "source": [
    "\n",
    "for i in range(1,6):\n",
    "    print(i)\n",
    "print(\"\\n\")\n",
    "for j in range(5,0,-1):\n",
    "    print(j)"
   ]
  },
  {
   "cell_type": "code",
   "execution_count": 21,
   "id": "c415957c",
   "metadata": {},
   "outputs": [
    {
     "name": "stdout",
     "output_type": "stream",
     "text": [
      "3 x 1 = 3\n",
      "3 x 2 = 6\n",
      "3 x 3 = 9\n",
      "3 x 4 = 12\n",
      "3 x 5 = 15\n",
      "3 x 6 = 18\n",
      "3 x 7 = 21\n",
      "3 x 8 = 24\n",
      "3 x 9 = 27\n",
      "3 x 10 = 30\n"
     ]
    }
   ],
   "source": [
    "#WAP to create a multiplication table\n",
    "user=int(input(\"Enter the number of which you want to print the multiplication table: \"))\n",
    "for i in range(1,11):\n",
    "    print(user,\"x\",i,\"=\",user*i)"
   ]
  },
  {
   "cell_type": "code",
   "execution_count": null,
   "id": "abbb9044",
   "metadata": {},
   "outputs": [
    {
     "name": "stdout",
     "output_type": "stream",
     "text": [
      "The total money deposited by you is  2000\n"
     ]
    }
   ],
   "source": [
    "#WAP that calculates the sum of given numbeers\n",
    "\n",
    "user=int(input(\"Enter number of entries: \"))\n",
    "money=0\n",
    "for i in range(user):\n",
    "    num=int(input(\"Enter the\"+str(i+1)+\"nth installment: \"))\n",
    "    money=money+num\n",
    "print(\"The total money deposited by you is \",money)\n",
    "\n"
   ]
  },
  {
   "cell_type": "code",
   "execution_count": null,
   "id": "2562b85c",
   "metadata": {},
   "outputs": [
    {
     "name": "stdout",
     "output_type": "stream",
     "text": [
      "The factorial is  120\n"
     ]
    }
   ],
   "source": [
    "# WAp that calculates factorial.\n",
    "# 5!=1*2*3*4*5\n",
    "fac=1\n",
    "user=int(input(\"Enter the number whose factorial is to be calculated: \"))\n",
    "for i in range(1,user+1):\n",
    "    fac=fac*i\n",
    "print(\"The factorial is \",fac)\n",
    "\n"
   ]
  },
  {
   "cell_type": "code",
   "execution_count": 40,
   "id": "bc64a1b1",
   "metadata": {},
   "outputs": [
    {
     "name": "stdout",
     "output_type": "stream",
     "text": [
      "The sum is  15\n"
     ]
    }
   ],
   "source": [
    "#WAp to calculate the summ of all numbers\n",
    "sum=0\n",
    "user=int(input(\"Enter the number whose factorial is to be calculated: \"))\n",
    "for i in range(1,user+1):\n",
    "    sum=sum+i\n",
    "print(\"The sum is \",sum)"
   ]
  },
  {
   "cell_type": "code",
   "execution_count": null,
   "id": "4924261a",
   "metadata": {},
   "outputs": [
    {
     "name": "stdout",
     "output_type": "stream",
     "text": [
      "The number is 0\n",
      "The number is 1\n",
      "The number is 2\n",
      "The number is 3\n",
      "The number is 4\n",
      "The number is 5\n",
      "The number is 6\n",
      "The number is 7\n",
      "The number is 8\n",
      "The number is 9\n"
     ]
    }
   ],
   "source": [
    "for i in range(10):\n",
    "\n",
    "    # print(f\"The number is {i}\")\n",
    "    print(\"The number is\",i)"
   ]
  },
  {
   "cell_type": "code",
   "execution_count": null,
   "id": "b3ac0df2",
   "metadata": {},
   "outputs": [],
   "source": []
  }
 ],
 "metadata": {
  "kernelspec": {
   "display_name": "Python 3",
   "language": "python",
   "name": "python3"
  },
  "language_info": {
   "codemirror_mode": {
    "name": "ipython",
    "version": 3
   },
   "file_extension": ".py",
   "mimetype": "text/x-python",
   "name": "python",
   "nbconvert_exporter": "python",
   "pygments_lexer": "ipython3",
   "version": "3.13.1"
  }
 },
 "nbformat": 4,
 "nbformat_minor": 5
}
