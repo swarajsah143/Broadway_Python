{
 "cells": [
  {
   "cell_type": "markdown",
   "id": "264116b5",
   "metadata": {},
   "source": [
    "# File\n",
    "\n",
    "f=open('<file name>','<mode>')\n",
    "<operations>\n",
    "f.close()\n",
    "\n",
    "Or\n",
    "\n",
    "With open ('<file name>','<mode>') as f:\n",
    "    <operations>\n",
    "\n",
    "#Modes\n",
    "\n",
    "r=read    \n",
    "w=write    \n",
    "a=append    \n",
    "x=create    \n"
   ]
  },
  {
   "cell_type": "code",
   "execution_count": null,
   "id": "7675a816",
   "metadata": {},
   "outputs": [
    {
     "name": "stdout",
     "output_type": "stream",
     "text": [
      "Hello world\n",
      "Hello world\n",
      "Hello world\n",
      "Hello world\n"
     ]
    }
   ],
   "source": [
    "f=open('data.txt','r')\n",
    "datas=f.read()\n",
    "print(datas)\n",
    "f.close()\n",
    "\n"
   ]
  },
  {
   "cell_type": "code",
   "execution_count": null,
   "id": "81b49f87",
   "metadata": {},
   "outputs": [
    {
     "data": {
      "text/plain": [
       "'Hello world\\nHello world\\nHello world\\nHello world'"
      ]
     },
     "execution_count": 13,
     "metadata": {},
     "output_type": "execute_result"
    }
   ],
   "source": [
    "datas"
   ]
  },
  {
   "cell_type": "code",
   "execution_count": null,
   "id": "7f025ecb",
   "metadata": {},
   "outputs": [
    {
     "data": {
      "text/plain": [
       "['Hello world', 'Hello world', 'Hello world', 'Hello world']"
      ]
     },
     "execution_count": 14,
     "metadata": {},
     "output_type": "execute_result"
    }
   ],
   "source": [
    "datas.split('\\n')\n"
   ]
  },
  {
   "cell_type": "code",
   "execution_count": null,
   "id": "68412562",
   "metadata": {},
   "outputs": [],
   "source": [
    "f=open('data.txt','a')\n",
    "f.write('\\nThis is a append')\n",
    "f.close()"
   ]
  },
  {
   "cell_type": "code",
   "execution_count": null,
   "id": "e7fb64ae",
   "metadata": {},
   "outputs": [],
   "source": [
    "# WAP to take name, age, address, phone from user and add them to file.\n",
    "n=int(input(\"Enter the no. of user:\"))\n",
    "info=\"\"\n",
    "for i in range(n):\n",
    "    name =(input(\"Enter your name: \"))\n",
    "    age =(input(\"Enter your age: \"))\n",
    "    address =(input(\"Enter your address: \"))\n",
    "    phone =(input(\"Enter your phone: \"))\n",
    "    data=f\"{name},{age},{address},{phone}\\n\"\n",
    "    info+=data\n",
    "f=open(\"info.csv\",\"w\")\n",
    "f.write(\"Name, Age, Address, Phone\\n\")\n",
    "f.write(info)\n",
    "f.close()\n"
   ]
  },
  {
   "cell_type": "code",
   "execution_count": null,
   "id": "9d5dbd9e",
   "metadata": {},
   "outputs": [
    {
     "data": {
      "text/plain": [
       "'c:\\\\Users\\\\ompra\\\\OneDrive\\\\Desktop\\\\brodway python'"
      ]
     },
     "execution_count": 4,
     "metadata": {},
     "output_type": "execute_result"
    }
   ],
   "source": [
    "# pwd"
   ]
  },
  {
   "cell_type": "code",
   "execution_count": 2,
   "id": "ae5d2b34",
   "metadata": {},
   "outputs": [],
   "source": [
    "# WAP for entries of data \n",
    "import datetime\n",
    "\n",
    "x = datetime.datetime.now()\n",
    "\n",
    "dateTime=x.strftime(\"%c\")\n",
    "\n",
    "info=\"\"\n",
    "grand_total=0   # here grand_total is defined because its value is changing everytime and getting updated.\n",
    "num=int(input(\"Enter the number of items you want to buy: \"))\n",
    "for i in range(num):\n",
    "    product=input(\"Enter the name of the product: \")\n",
    "    price=float(input(\"Enter the price of product: \"))\n",
    "    qty=float(input(\"Enter the quantity of product: \"))\n",
    "    \n",
    "    total=qty*price\n",
    "    grand_total+=total\n",
    "    row=f\"{product},{price},{qty},{total},{dateTime}\\n\"\n",
    "    info+=row\n",
    "# print(info)\n",
    "# print(\"The grand total is \",grand_total)\n",
    "f=open(\"Bill.csv\",\"w\")\n",
    "f.write(\"Product, Price, Quantity, Total,Date_Time\\n\")\n",
    "f.write(info)\n",
    "f.close()"
   ]
  },
  {
   "cell_type": "code",
   "execution_count": 7,
   "id": "98100ffe",
   "metadata": {},
   "outputs": [
    {
     "data": {
      "text/plain": [
       "['Product, Price, Quantity, Total,Date_Time',\n",
       " 'Apple,120.0,2.0,240.0,Mon May 26 19:35:36 2025',\n",
       " 'Banana,60.0,1.0,60.0,Mon May 26 19:35:36 2025']"
      ]
     },
     "execution_count": 7,
     "metadata": {},
     "output_type": "execute_result"
    }
   ],
   "source": [
    "f=open(\"Bill.csv\",\"r\")\n",
    "d=f.read()\n",
    "f.close()\n",
    "data=d.split(\"\\n\")[0:-1]\n",
    "data"
   ]
  },
  {
   "cell_type": "code",
   "execution_count": 8,
   "id": "4734e692",
   "metadata": {},
   "outputs": [
    {
     "data": {
      "text/plain": [
       "[['Product', ' Price', ' Quantity', ' Total', 'Date_Time'],\n",
       " ['Apple', '120.0', '2.0', '240.0', 'Mon May 26 19:35:36 2025'],\n",
       " ['Banana', '60.0', '1.0', '60.0', 'Mon May 26 19:35:36 2025']]"
      ]
     },
     "execution_count": 8,
     "metadata": {},
     "output_type": "execute_result"
    }
   ],
   "source": [
    "Final_list=[]\n",
    "for i in data:\n",
    "    Final_list.append(i.split(\",\"))\n",
    "Final_list"
   ]
  },
  {
   "cell_type": "code",
   "execution_count": null,
   "id": "ebb486fb",
   "metadata": {},
   "outputs": [
    {
     "name": "stdout",
     "output_type": "stream",
     "text": [
      "The grand total is 2790.0\n"
     ]
    }
   ],
   "source": [
    "# 1st method to add the total\n",
    "\n",
    "gT=0\n",
    "for i in range(1,len(Final_list)):\n",
    "    gT+=float(Final_list[i][3])\n",
    "print(f\"The grand total is {gT}\")"
   ]
  },
  {
   "cell_type": "code",
   "execution_count": null,
   "id": "04772237",
   "metadata": {},
   "outputs": [
    {
     "data": {
      "text/plain": [
       "[' Total', '300.0', '450.0', '540.0', '1500.0']"
      ]
     },
     "execution_count": 26,
     "metadata": {},
     "output_type": "execute_result"
    }
   ],
   "source": [
    "# Second method to add the total\n",
    "total=[]\n",
    "for i in Final_list:\n",
    "    total.append(i[3])\n",
    "total"
   ]
  },
  {
   "cell_type": "code",
   "execution_count": 27,
   "id": "8571178d",
   "metadata": {},
   "outputs": [
    {
     "data": {
      "text/plain": [
       "['300.0', '450.0', '540.0', '1500.0']"
      ]
     },
     "execution_count": 27,
     "metadata": {},
     "output_type": "execute_result"
    }
   ],
   "source": [
    "total[1:]\n"
   ]
  },
  {
   "cell_type": "code",
   "execution_count": 28,
   "id": "16429d24",
   "metadata": {},
   "outputs": [
    {
     "data": {
      "text/plain": [
       "2790.0"
      ]
     },
     "execution_count": 28,
     "metadata": {},
     "output_type": "execute_result"
    }
   ],
   "source": [
    "t=sum([float(i) for i in total[1:]])\n",
    "t"
   ]
  },
  {
   "cell_type": "code",
   "execution_count": null,
   "id": "581f6ee3",
   "metadata": {},
   "outputs": [],
   "source": []
  }
 ],
 "metadata": {
  "kernelspec": {
   "display_name": "Python 3",
   "language": "python",
   "name": "python3"
  },
  "language_info": {
   "codemirror_mode": {
    "name": "ipython",
    "version": 3
   },
   "file_extension": ".py",
   "mimetype": "text/x-python",
   "name": "python",
   "nbconvert_exporter": "python",
   "pygments_lexer": "ipython3",
   "version": "3.13.1"
  }
 },
 "nbformat": 4,
 "nbformat_minor": 5
}
