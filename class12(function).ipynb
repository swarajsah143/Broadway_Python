{
 "cells": [
  {
   "cell_type": "markdown",
   "id": "74b84a4b",
   "metadata": {},
   "source": [
    "Recursive function\n",
    "\n",
    "--> A function that calls itself multiple times "
   ]
  },
  {
   "cell_type": "code",
   "execution_count": null,
   "id": "32b02521",
   "metadata": {},
   "outputs": [],
   "source": [
    "def hello():\n",
    "    print(\"Hello, World!\")\n",
    "    hello()    # This calls itself and run for infinite times.\n",
    "hello()"
   ]
  },
  {
   "cell_type": "code",
   "execution_count": 2,
   "id": "3800b227",
   "metadata": {},
   "outputs": [
    {
     "name": "stdout",
     "output_type": "stream",
     "text": [
      "Hello, World!\n",
      "Hello, World!\n",
      "Hello, World!\n",
      "Hello, World!\n",
      "Hello, World!\n",
      "Hello, World!\n",
      "Hello, World!\n"
     ]
    }
   ],
   "source": [
    "def hello():\n",
    "    x=input(\"Enter x for more print: \")\n",
    "    if x=='x':\n",
    "        print(\"Hello, World!\")\n",
    "        hello()    \n",
    "hello()"
   ]
  },
  {
   "cell_type": "code",
   "execution_count": null,
   "id": "2be20012",
   "metadata": {},
   "outputs": [
    {
     "name": "stdout",
     "output_type": "stream",
     "text": [
      "16\n"
     ]
    }
   ],
   "source": [
    "# Lambda function\n",
    "\n",
    "# lambda <arguments>:<operation>\n",
    "\n",
    "x= lambda a: a**2\n",
    "y=x(4)  # the value of a will be 4 \n",
    "print(y)"
   ]
  },
  {
   "cell_type": "code",
   "execution_count": null,
   "id": "b903ec2c",
   "metadata": {},
   "outputs": [
    {
     "name": "stdout",
     "output_type": "stream",
     "text": [
      "20\n"
     ]
    }
   ],
   "source": [
    "x= lambda l,b: l*b\n",
    "y=x(4,5)  # the value of l will be 4 and b will be 5\n",
    "print(y)"
   ]
  },
  {
   "cell_type": "code",
   "execution_count": null,
   "id": "3240126b",
   "metadata": {},
   "outputs": [
    {
     "data": {
      "text/plain": [
       "[2, 4, 6, 8, 10]"
      ]
     },
     "execution_count": 5,
     "metadata": {},
     "output_type": "execute_result"
    }
   ],
   "source": [
    "# list(filter(lambda <arguments>:<condition>, list))\n",
    "# takes one value one by one from the list and filter them and then store in the list\n",
    "\n",
    "l=[1,2,3,4,5,6,7,8,9,10]\n",
    "list(filter(lambda x:x%2==0, l))\n",
    "\n",
    "\n"
   ]
  },
  {
   "cell_type": "code",
   "execution_count": 53,
   "id": "bc4cf3fa",
   "metadata": {},
   "outputs": [
    {
     "data": {
      "text/plain": [
       "['Apple', 'Cat', 'Dog', 'Fish']"
      ]
     },
     "execution_count": 53,
     "metadata": {},
     "output_type": "execute_result"
    }
   ],
   "source": [
    "# To filter out the word having 1st letter UpperCase\n",
    "\n",
    "words=[\"Apple\",\"ball\",\"Cat\",\"Dog\",\"egg\",\"Fish\"]\n",
    "list(filter(lambda f: f[0].isupper(),words))"
   ]
  },
  {
   "cell_type": "code",
   "execution_count": 13,
   "id": "23380fa1",
   "metadata": {},
   "outputs": [
    {
     "name": "stdout",
     "output_type": "stream",
     "text": [
      "['APPLE', 'BALL', 'CAT', 'DOG', 'EGG', 'FISH']\n"
     ]
    },
    {
     "data": {
      "text/plain": [
       "['Apple', 'Ball', 'Cat', 'Dog', 'Egg', 'Fish']"
      ]
     },
     "execution_count": 13,
     "metadata": {},
     "output_type": "execute_result"
    }
   ],
   "source": [
    "# Map\n",
    "#list(map(lambda<arguments>:<operations>,list))\n",
    "words=[\"Apple\",\"ball\",\"Cat\",\"Dog\",\"egg\",\"Fish\"]\n",
    "print(list(map(lambda x:x.upper(),words)))\n",
    "list(map(lambda x:x.title(),words))\n"
   ]
  },
  {
   "cell_type": "code",
   "execution_count": null,
   "id": "37d9c602",
   "metadata": {},
   "outputs": [],
   "source": [
    "# filter vs map\n",
    "# filter() function returns a filter object, which is an iterator,\n",
    "# so it doesn't return a list, it returns an iterator.\n",
    "# map() function returns a map object, which is also an iterator.\n",
    "# So, both filter() and map() functions return iterators, not lists.\n",
    "# But, map() function can take a function as an argument, while filter() function can't\n",
    "# filter() function is used to filter out the elements of an iterable based on a predicate function.\n",
    "# map() function is used to apply a function to each item of an iterable and return a list\n",
    "# of the results."
   ]
  },
  {
   "cell_type": "code",
   "execution_count": 14,
   "id": "4c09cc9e",
   "metadata": {},
   "outputs": [
    {
     "data": {
      "text/plain": [
       "[1, 4, 9, 16, 25, 36, 49, 64, 81, 100]"
      ]
     },
     "execution_count": 14,
     "metadata": {},
     "output_type": "execute_result"
    }
   ],
   "source": [
    "l=[1,2,3,4,5,6,7,8,9,10]\n",
    "list(map(lambda x:x**2,l))\n",
    "\n"
   ]
  },
  {
   "cell_type": "code",
   "execution_count": null,
   "id": "c63fee56",
   "metadata": {},
   "outputs": [
    {
     "data": {
      "text/plain": [
       "[0, 2, 4, 6, 8, 10, 12, 14, 16, 18]"
      ]
     },
     "execution_count": 21,
     "metadata": {},
     "output_type": "execute_result"
    }
   ],
   "source": [
    "# List comprehension\n",
    "\n",
    "l=[j for j in range(10)]\n",
    "l"
   ]
  },
  {
   "cell_type": "code",
   "execution_count": 20,
   "id": "ebbad54f",
   "metadata": {},
   "outputs": [
    {
     "data": {
      "text/plain": [
       "['0', '1', '2', '3', '4', '5', '6', '7', '8', '9']"
      ]
     },
     "execution_count": 20,
     "metadata": {},
     "output_type": "execute_result"
    }
   ],
   "source": [
    "l=[0, 1, 2, 3, 4, 5, 6, 7, 8, 9]\n",
    "l=[str(j) for j in l]\n",
    "l"
   ]
  },
  {
   "cell_type": "code",
   "execution_count": 23,
   "id": "13d412bc",
   "metadata": {},
   "outputs": [
    {
     "name": "stdout",
     "output_type": "stream",
     "text": [
      "['APPLE', 'BALL', 'CAT', 'DOG', 'EGG', 'FISH']\n"
     ]
    }
   ],
   "source": [
    "words=[\"Apple\",\"ball\",\"Cat\",\"Dog\",\"egg\",\"Fish\"]\n",
    "l=[i.upper() for i in words]\n",
    "print(l)"
   ]
  },
  {
   "cell_type": "code",
   "execution_count": 24,
   "id": "80d3d349",
   "metadata": {},
   "outputs": [
    {
     "data": {
      "text/plain": [
       "[0, 2, 4, 6, 8]"
      ]
     },
     "execution_count": 24,
     "metadata": {},
     "output_type": "execute_result"
    }
   ],
   "source": [
    "l=[0, 1, 2, 3, 4, 5, 6, 7, 8, 9]\n",
    "f=[i for i in l if i%2==0]\n",
    "f"
   ]
  },
  {
   "cell_type": "code",
   "execution_count": 28,
   "id": "a23600eb",
   "metadata": {},
   "outputs": [
    {
     "data": {
      "text/plain": [
       "['APPLE', 'Cat', 'Dog', 'Fish']"
      ]
     },
     "execution_count": 28,
     "metadata": {},
     "output_type": "execute_result"
    }
   ],
   "source": [
    "words=[\"APPLE\",\"ball\",\"Cat\",\"Dog\",\"egg\",\"Fish\"]\n",
    "u=[i for i in words if i[0].isupper()]\n",
    "u"
   ]
  },
  {
   "cell_type": "code",
   "execution_count": null,
   "id": "55a14def",
   "metadata": {},
   "outputs": [
    {
     "name": "stdout",
     "output_type": "stream",
     "text": [
      "['APPLE', 'BALL', 'DOG']\n"
     ]
    }
   ],
   "source": [
    "# To remove the same words from two lists and print the remaining words from the second list\n",
    "a=[\"Apple\",\"ball\",\"Cat\",\"Dog\",\"egg\",\"Fish\"]\n",
    "b=[\"APPLE\",\"BALL\",\"Cat\",\"DOG\",\"egg\",\"Fish\"]\n",
    "not_common=[i for i in b if i not in a]\n",
    "print(not_common)\n"
   ]
  },
  {
   "cell_type": "code",
   "execution_count": null,
   "id": "0781c255",
   "metadata": {},
   "outputs": [],
   "source": [
    "# To print the same words from two lists\n",
    "a=[\"Apple\",\"ball\",\"Cat\",\"Dog\",\"egg\",\"Fish\"]\n",
    "b=[\"APPLE\",\"BALL\",\"Cat\",\"DOG\",\"egg\",\"Fish\"]\n",
    "common=[i for i in b if i  in a]\n",
    "print(common)\n"
   ]
  },
  {
   "cell_type": "code",
   "execution_count": null,
   "id": "56c51647",
   "metadata": {},
   "outputs": [
    {
     "data": {
      "text/plain": [
       "[True, False, True, True, False, True]"
      ]
     },
     "execution_count": 55,
     "metadata": {},
     "output_type": "execute_result"
    }
   ],
   "source": [
    "\n",
    "a=[\"Apple\",\"ball\",\"Cat\",\"Dog\",\"egg\",\"Fish\"]\n",
    "list(filter(lambda i: i[0].isupper(),a))\n",
    "\n"
   ]
  },
  {
   "cell_type": "code",
   "execution_count": null,
   "id": "713f34af",
   "metadata": {},
   "outputs": [],
   "source": []
  }
 ],
 "metadata": {
  "kernelspec": {
   "display_name": "Python 3",
   "language": "python",
   "name": "python3"
  },
  "language_info": {
   "codemirror_mode": {
    "name": "ipython",
    "version": 3
   },
   "file_extension": ".py",
   "mimetype": "text/x-python",
   "name": "python",
   "nbconvert_exporter": "python",
   "pygments_lexer": "ipython3",
   "version": "3.13.1"
  }
 },
 "nbformat": 4,
 "nbformat_minor": 5
}
