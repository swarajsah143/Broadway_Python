{
 "cells": [
  {
   "cell_type": "code",
   "execution_count": 1,
   "id": "a1970c8d",
   "metadata": {},
   "outputs": [],
   "source": [
    "import os"
   ]
  },
  {
   "cell_type": "code",
   "execution_count": 2,
   "id": "d22bfdce",
   "metadata": {},
   "outputs": [
    {
     "data": {
      "text/plain": [
       "['.git',\n",
       " 'Bill.csv',\n",
       " 'Check-add.pptx',\n",
       " 'class and method.pptx',\n",
       " 'class1.ipynb',\n",
       " 'class10(Dictionary).ipynb',\n",
       " 'class11(function).ipynb',\n",
       " 'class12(function).ipynb',\n",
       " 'class13_File.ipynb',\n",
       " 'class14_pandas.ipynb',\n",
       " 'class15_pandas2.ipynb',\n",
       " 'class16_try&catch.ipynb',\n",
       " 'class17_OOP.ipynb',\n",
       " 'class18_inheritence.ipynb',\n",
       " 'class19_encapsulation.ipynb',\n",
       " 'class2.ipynb',\n",
       " 'class20_Sql.ipynb',\n",
       " 'class21_mySql.ipynb',\n",
       " 'class22&23_BeautifulSoup.ipynb',\n",
       " 'class22_mySql_update.ipynb',\n",
       " 'class24_dataVisualization.ipynb',\n",
       " 'class3.ipynb',\n",
       " 'class4.ipynb',\n",
       " 'class5.ipynb',\n",
       " 'class6.ipynb',\n",
       " 'class7(String).ipynb',\n",
       " 'class8(List-methods).ipynb',\n",
       " 'class9(List).ipynb',\n",
       " 'class_last.ipynb',\n",
       " 'data.csv',\n",
       " 'data.txt',\n",
       " 'filter_data.json',\n",
       " 'info.csv',\n",
       " 'info.txt',\n",
       " 'Inheritance.pptx',\n",
       " 'list_data.csv',\n",
       " 'Practice-gpt',\n",
       " 'ss']"
      ]
     },
     "execution_count": 2,
     "metadata": {},
     "output_type": "execute_result"
    }
   ],
   "source": [
    "os.listdir()"
   ]
  },
  {
   "cell_type": "code",
   "execution_count": 31,
   "id": "eb3de938",
   "metadata": {},
   "outputs": [],
   "source": [
    "os.mkdir('NewFolder')"
   ]
  },
  {
   "cell_type": "code",
   "execution_count": null,
   "id": "1f899faf",
   "metadata": {},
   "outputs": [],
   "source": [
    "os.chdir('NewFolder')"
   ]
  },
  {
   "cell_type": "code",
   "execution_count": 42,
   "id": "91ab483c",
   "metadata": {},
   "outputs": [
    {
     "data": {
      "text/plain": [
       "'c:\\\\Users\\\\ompra\\\\OneDrive'"
      ]
     },
     "execution_count": 42,
     "metadata": {},
     "output_type": "execute_result"
    }
   ],
   "source": [
    "pwd"
   ]
  },
  {
   "cell_type": "code",
   "execution_count": null,
   "id": "16cea689",
   "metadata": {},
   "outputs": [
    {
     "name": "stdout",
     "output_type": "stream",
     "text": [
      "[WinError 2] The system cannot find the file specified: \"..'New folder'\"\n",
      "c:\\Users\\ompra\\OneDrive\n"
     ]
    }
   ],
   "source": [
    "cd ..\n",
    "\n"
   ]
  },
  {
   "cell_type": "code",
   "execution_count": 14,
   "id": "36c2260a",
   "metadata": {},
   "outputs": [],
   "source": [
    "import math as m"
   ]
  },
  {
   "cell_type": "code",
   "execution_count": 18,
   "id": "049eb83e",
   "metadata": {},
   "outputs": [
    {
     "name": "stdout",
     "output_type": "stream",
     "text": [
      "3.141592653589793\n",
      "2.718281828459045\n",
      "1.0\n"
     ]
    }
   ],
   "source": [
    "print(m.pi)\n",
    "print(m.e)\n",
    "print(m.sin(m.pi/2))"
   ]
  },
  {
   "cell_type": "code",
   "execution_count": null,
   "id": "f9feadca",
   "metadata": {},
   "outputs": [
    {
     "data": {
      "text/plain": [
       "1.5707963267948966"
      ]
     },
     "execution_count": 20,
     "metadata": {},
     "output_type": "execute_result"
    }
   ],
   "source": [
    "r=m.radians(90) #degree to radian\n",
    "r"
   ]
  },
  {
   "cell_type": "code",
   "execution_count": 22,
   "id": "8bc6c3f1",
   "metadata": {},
   "outputs": [
    {
     "data": {
      "text/plain": [
       "6.123233995736766e-17"
      ]
     },
     "execution_count": 22,
     "metadata": {},
     "output_type": "execute_result"
    }
   ],
   "source": [
    "m.sin(r)\n",
    "m.cos(r)"
   ]
  },
  {
   "cell_type": "code",
   "execution_count": 23,
   "id": "040f5f04",
   "metadata": {},
   "outputs": [
    {
     "data": {
      "text/plain": [
       "120"
      ]
     },
     "execution_count": 23,
     "metadata": {},
     "output_type": "execute_result"
    }
   ],
   "source": [
    "m.factorial(5)"
   ]
  },
  {
   "cell_type": "code",
   "execution_count": null,
   "id": "78e4aea1",
   "metadata": {},
   "outputs": [],
   "source": []
  }
 ],
 "metadata": {
  "kernelspec": {
   "display_name": "Python 3",
   "language": "python",
   "name": "python3"
  },
  "language_info": {
   "codemirror_mode": {
    "name": "ipython",
    "version": 3
   },
   "file_extension": ".py",
   "mimetype": "text/x-python",
   "name": "python",
   "nbconvert_exporter": "python",
   "pygments_lexer": "ipython3",
   "version": "3.13.1"
  }
 },
 "nbformat": 4,
 "nbformat_minor": 5
}
