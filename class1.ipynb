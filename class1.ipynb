{
 "cells": [
  {
   "cell_type": "code",
   "execution_count": null,
   "id": "633b3676",
   "metadata": {},
   "outputs": [
    {
     "name": "stdout",
     "output_type": "stream",
     "text": [
      "10\n"
     ]
    }
   ],
   "source": [
    "a=10\n",
    "print(a)   #\"Print\" it is the pre-defined function"
   ]
  },
  {
   "cell_type": "code",
   "execution_count": null,
   "id": "d8013d11",
   "metadata": {},
   "outputs": [
    {
     "name": "stdout",
     "output_type": "stream",
     "text": [
      "2\n",
      "10.5\n",
      "Hello World\n",
      "True\n",
      "False\n",
      "2 10.5 Hello World True False\n",
      "<class 'int'>\n",
      "<class 'float'>\n",
      "<class 'str'>\n",
      "<class 'bool'>\n",
      "<class 'bool'>\n"
     ]
    }
   ],
   "source": [
    "a=2   #int\n",
    "b=10.5  #float\n",
    "c=\"Hello World\" #str\n",
    "d=True #bool\n",
    "e=False #bool\n",
    "\n",
    "print(a)\n",
    "print(b)\n",
    "print(c)\n",
    "print(d)\n",
    "print(e)\n",
    "print(a,b,c,d,e)\n",
    "\n",
    "print(type(a))\n",
    "print(type(b))\n",
    "print(type(c))\n",
    "print(type(d))\n",
    "print(type(e))"
   ]
  },
  {
   "cell_type": "markdown",
   "id": "0582249b",
   "metadata": {},
   "source": [
    "Rules for declaring variables\n",
    "\n",
    "no space between characters like a a\n",
    "no special character like @#$%\n",
    "not starting with any numbers\n",
    "must be case-sensitive\n",
    "must be meaningful and descriptive\n"
   ]
  },
  {
   "cell_type": "markdown",
   "id": "c7fa8619",
   "metadata": {},
   "source": [
    " #Operators\n",
    " Arithmetic, Comparison, Logical, Bitwise, Assignment\n",
    "\n",
    " Arithematic: +,-,/,//,%\n",
    " Comparison: ==, !=, >, <, >=, <=\n",
    " Logical: &&, ||, !\n",
    " Bitwise: &, |, ^, ~, <<, >>\n",
    " Assignment: =, +=, -=, *=, /=, %=\n",
    "\n"
   ]
  },
  {
   "cell_type": "code",
   "execution_count": null,
   "id": "7846f60c",
   "metadata": {},
   "outputs": [
    {
     "name": "stdout",
     "output_type": "stream",
     "text": [
      "4\n",
      "16\n",
      "1.6666666666666667\n",
      "60\n",
      "1000000\n",
      "1\n",
      "4\n"
     ]
    }
   ],
   "source": [
    "a=10\n",
    "b=6\n",
    "print(a-b) #Subtraction\n",
    "print(a+b) # Addition\n",
    "print(a/b) # Division\n",
    "print(a*b) # Multiplication\n",
    "print(a**b) # Exponentiation- a^b\n",
    "print(a//b) # Floor Division\n",
    "print(a%b) # Modulus (remainder) operation\n"
   ]
  },
  {
   "cell_type": "code",
   "execution_count": null,
   "id": "ec9c99b7",
   "metadata": {},
   "outputs": [
    {
     "name": "stdout",
     "output_type": "stream",
     "text": [
      "HelloWorld HelloWorld HelloWorld \n"
     ]
    }
   ],
   "source": [
    "# String \n",
    "a=\"Hello\"\n",
    "b=\"World \"\n",
    "c = a + b\n",
    "#c= a*b  ---- It is not valid because string multiplication is not defined in Python\n",
    "print(c*3)  #Enlargement"
   ]
  },
  {
   "cell_type": "code",
   "execution_count": 1,
   "id": "147bd212",
   "metadata": {},
   "outputs": [
    {
     "name": "stdout",
     "output_type": "stream",
     "text": [
      "Hello World\n",
      "Hello World\n",
      "Hello World\n",
      "Hello World\n",
      "Hello World\n",
      "\n"
     ]
    }
   ],
   "source": [
    "a=\"Hello World\\n\"\n",
    "print(a*5)  "
   ]
  },
  {
   "cell_type": "markdown",
   "id": "e1604947",
   "metadata": {},
   "source": [
    "#Bool\n"
   ]
  },
  {
   "cell_type": "code",
   "execution_count": 21,
   "id": "a7be117e",
   "metadata": {},
   "outputs": [
    {
     "name": "stdout",
     "output_type": "stream",
     "text": [
      "1\n",
      "1\n",
      "-1\n"
     ]
    }
   ],
   "source": [
    "a=True\n",
    "b=False  # It is equivalent to 0\n",
    "c=a+b\n",
    "d=a-b\n",
    "e=b-a\n",
    "print(c)\n",
    "print(d)\n",
    "print(e)"
   ]
  },
  {
   "cell_type": "code",
   "execution_count": null,
   "id": "afd77150",
   "metadata": {},
   "outputs": [
    {
     "name": "stdout",
     "output_type": "stream",
     "text": [
      "2\n",
      "0\n"
     ]
    }
   ],
   "source": [
    "a=True  # It is equivalent to 1\n",
    "b=True  \n",
    "c=a+b\n",
    "d=a-b\n",
    "print(c)\n",
    "print(d)"
   ]
  },
  {
   "cell_type": "code",
   "execution_count": null,
   "id": "1c176019",
   "metadata": {},
   "outputs": [],
   "source": []
  }
 ],
 "metadata": {
  "kernelspec": {
   "display_name": "Python 3",
   "language": "python",
   "name": "python3"
  },
  "language_info": {
   "codemirror_mode": {
    "name": "ipython",
    "version": 3
   },
   "file_extension": ".py",
   "mimetype": "text/x-python",
   "name": "python",
   "nbconvert_exporter": "python",
   "pygments_lexer": "ipython3",
   "version": "3.13.1"
  }
 },
 "nbformat": 4,
 "nbformat_minor": 5
}
