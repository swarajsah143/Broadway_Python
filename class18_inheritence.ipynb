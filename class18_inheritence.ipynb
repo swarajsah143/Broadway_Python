{
 "cells": [
  {
   "cell_type": "code",
   "execution_count": null,
   "id": "be556fbd",
   "metadata": {},
   "outputs": [],
   "source": [
    "# class A:\n",
    "#     pass\n",
    "# class B(A):\n",
    "#     pass\n",
    "# obj=B()"
   ]
  },
  {
   "cell_type": "code",
   "execution_count": 3,
   "id": "4860c23f",
   "metadata": {},
   "outputs": [
    {
     "name": "stdout",
     "output_type": "stream",
     "text": [
      "Original data: Name=Hyper, Age=19, Address=Tripureshwor\n",
      "Inherited data: Name=Hyper, Age=19, Address=Tripureshwor\n"
     ]
    }
   ],
   "source": [
    "class Data:\n",
    "    def __init__(self):\n",
    "        self.name=\"Hyper\"\n",
    "        self.age=19\n",
    "        self.add=\"Tripureshwor\"\n",
    "    \n",
    "    def data(self):\n",
    "        print(f\"Original data: Name={self.name}, Age={self.age}, Address={self.add}\")\n",
    "class Info(Data):\n",
    "    def info(self):\n",
    "        print(f\"Inherited data: Name={self.name}, Age={self.age}, Address={self.add}\")\n",
    "obj=Info()\n",
    "obj.data()    \n",
    "obj.info()    \n"
   ]
  },
  {
   "cell_type": "code",
   "execution_count": 4,
   "id": "526cf050",
   "metadata": {},
   "outputs": [
    {
     "name": "stdout",
     "output_type": "stream",
     "text": [
      "Original data: Name=Sanu, Age=20, Address=Nautan\n",
      "Inherited data: Name=Sanu, Age=20, Address=Nautan\n"
     ]
    }
   ],
   "source": [
    "class Data:    # parent class\n",
    "    def __init__(self,name,age,add):\n",
    "        self.name=name\n",
    "        self.age=age\n",
    "        self.add=add\n",
    "    \n",
    "    def data(self):\n",
    "        print(f\"Original data: Name={self.name}, Age={self.age}, Address={self.add}\")\n",
    "\n",
    "class Info(Data):  # child class\n",
    "    def info(self):\n",
    "        print(f\"Inherited data: Name={self.name}, Age={self.age}, Address={self.add}\")\n",
    "name=input(\"Name: \")\n",
    "age=int(input(\"Age: \"))\n",
    "add=input(\"Address: \")\n",
    "obj=Info(name,age,add)\n",
    "obj.data()    \n",
    "obj.info()    \n"
   ]
  },
  {
   "cell_type": "code",
   "execution_count": null,
   "id": "3e2dfbac",
   "metadata": {},
   "outputs": [
    {
     "name": "stdout",
     "output_type": "stream",
     "text": [
      "Address=nautan\n",
      "Inherited data: Name=sswaraj, Age=21, Address=nautan\n"
     ]
    }
   ],
   "source": []
  },
  {
   "cell_type": "code",
   "execution_count": null,
   "id": "3f276ef8",
   "metadata": {},
   "outputs": [],
   "source": [
    "# Multi-level inheritence\n",
    "\n",
    "class A:\n",
    "    pass\n",
    "class B(A):\n",
    "    pass\n",
    "class C(B):\n",
    "    pass\n",
    "obj=C()"
   ]
  },
  {
   "cell_type": "code",
   "execution_count": null,
   "id": "5bdb1424",
   "metadata": {},
   "outputs": [],
   "source": [
    "# Multiple inheritence\n",
    "\n",
    "class A:\n",
    "    pass\n",
    "class B:\n",
    "    pass\n",
    "class C(A,B):\n",
    "    pass\n",
    "obj=C()"
   ]
  },
  {
   "cell_type": "code",
   "execution_count": 2,
   "id": "e67afd42",
   "metadata": {},
   "outputs": [
    {
     "name": "stdout",
     "output_type": "stream",
     "text": [
      "Address=Nautan\n",
      "Contact:9765888593\n",
      "Inherited data: Name=Swaraj, Age=19, Address=Nautan, Contact=9765888593\n"
     ]
    }
   ],
   "source": [
    "# USing Multiple inheritence \n",
    "\n",
    "class Contact:  # Parent class\n",
    "    def __init__(self,phone):\n",
    "        self.phone=phone\n",
    "\n",
    "    def contact(self):\n",
    "        print(f\"Contact:{self.phone}\")\n",
    "\n",
    "\n",
    "class Data:    # parent class\n",
    "    def __init__(self,add):\n",
    "        self.add=add\n",
    "    \n",
    "    def data(self):\n",
    "        print(f\"Address={self.add}\")\n",
    "\n",
    "\n",
    "class Info(Contact,Data):  # child class\n",
    "    def __init__(self,name,age,add,phone):\n",
    "        self.name=name\n",
    "        self.age=age\n",
    "        Data.__init__(self,add)  # If I want to use address from parent class\n",
    "        Contact.__init__(self,phone)\n",
    "\n",
    "    def info(self):\n",
    "        print(f\"Inherited data: Name={self.name}, Age={self.age}, Address={self.add}, Contact={self.phone}\")\n",
    "\n",
    "\n",
    "name=input(\"Name: \")\n",
    "age=int(input(\"Age: \"))\n",
    "add=input(\"Address: \")\n",
    "phone=input(\"Contact: \")\n",
    "\n",
    "obj=Info(name,age,add,phone)\n",
    "obj.data()    \n",
    "obj.contact()    \n",
    "obj.info()    \n"
   ]
  },
  {
   "cell_type": "code",
   "execution_count": 4,
   "id": "4358bfe0",
   "metadata": {},
   "outputs": [
    {
     "name": "stdout",
     "output_type": "stream",
     "text": [
      "Address=Nautan and Contact= 98765\n",
      "Contact: 98765\n",
      "Inherited data: Name=Sanu, Age=19, Address=Nautan, Contact=98765\n"
     ]
    }
   ],
   "source": [
    "# USing Multi-Level inheritence \n",
    "\n",
    "class Contact:  #  Parent\n",
    "    def __init__(self,phone):\n",
    "        self.phone=phone\n",
    "    \n",
    "    def contact(self):\n",
    "        print(f\"Contact: {self.phone}\")\n",
    "\n",
    "\n",
    "class Data(Contact):    # Child of  Contact class\n",
    "    def __init__(self,add,phone):\n",
    "        self.add=add\n",
    "        super().__init__(phone)\n",
    "\n",
    "    \n",
    "    def data(self):\n",
    "        print(f\"Address={self.add} and Contact= {self.phone}\")\n",
    "\n",
    "\n",
    "class Info(Data):  # child of Data class\n",
    "    def __init__(self,name,age,add,phone):\n",
    "        self.name=name\n",
    "        self.age=age\n",
    "        super().__init__(add,phone)  # If I want to use address from parent class\n",
    "\n",
    "    def info(self):\n",
    "        print(f\"Inherited data: Name={self.name}, Age={self.age}, Address={self.add}, Contact={self.phone}\")\n",
    "\n",
    "\n",
    "name=input(\"Name: \")\n",
    "age=int(input(\"Age: \"))\n",
    "add=input(\"Address: \")\n",
    "phone=input(\"Contact: \")\n",
    "\n",
    "obj=Info(name,age,add,phone)\n",
    "\n",
    "obj.data()    \n",
    "obj.contact()    \n",
    "obj.info()    \n"
   ]
  },
  {
   "cell_type": "code",
   "execution_count": null,
   "id": "cc9533bb",
   "metadata": {},
   "outputs": [],
   "source": []
  }
 ],
 "metadata": {
  "kernelspec": {
   "display_name": "Python 3",
   "language": "python",
   "name": "python3"
  },
  "language_info": {
   "codemirror_mode": {
    "name": "ipython",
    "version": 3
   },
   "file_extension": ".py",
   "mimetype": "text/x-python",
   "name": "python",
   "nbconvert_exporter": "python",
   "pygments_lexer": "ipython3",
   "version": "3.13.1"
  }
 },
 "nbformat": 4,
 "nbformat_minor": 5
}
