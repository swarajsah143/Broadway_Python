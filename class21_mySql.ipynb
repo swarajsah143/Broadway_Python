{
 "cells": [
  {
   "cell_type": "code",
   "execution_count": 1,
   "id": "583463f6",
   "metadata": {},
   "outputs": [
    {
     "name": "stdout",
     "output_type": "stream",
     "text": [
      "Collecting mysql-connector\n",
      "  Downloading mysql-connector-2.2.9.tar.gz (11.9 MB)\n",
      "     ---------------------------------------- 0.0/11.9 MB ? eta -:--:--\n",
      "      --------------------------------------- 0.3/11.9 MB ? eta -:--:--\n",
      "     ---- ----------------------------------- 1.3/11.9 MB 6.2 MB/s eta 0:00:02\n",
      "     ------- -------------------------------- 2.4/11.9 MB 5.5 MB/s eta 0:00:02\n",
      "     ---------- ----------------------------- 3.1/11.9 MB 5.3 MB/s eta 0:00:02\n",
      "     ----------------- ---------------------- 5.2/11.9 MB 5.7 MB/s eta 0:00:02\n",
      "     ---------------------- ----------------- 6.6/11.9 MB 5.7 MB/s eta 0:00:01\n",
      "     -------------------------- ------------- 7.9/11.9 MB 5.7 MB/s eta 0:00:01\n",
      "     ------------------------------ --------- 8.9/11.9 MB 5.7 MB/s eta 0:00:01\n",
      "     ---------------------------------- ----- 10.2/11.9 MB 5.7 MB/s eta 0:00:01\n",
      "     -------------------------------------- - 11.5/11.9 MB 5.7 MB/s eta 0:00:01\n",
      "     ---------------------------------------- 11.9/11.9 MB 5.5 MB/s eta 0:00:00\n",
      "  Installing build dependencies: started\n",
      "  Installing build dependencies: finished with status 'done'\n",
      "  Getting requirements to build wheel: started\n",
      "  Getting requirements to build wheel: finished with status 'done'\n",
      "  Preparing metadata (pyproject.toml): started\n",
      "  Preparing metadata (pyproject.toml): finished with status 'done'\n",
      "Building wheels for collected packages: mysql-connector\n",
      "  Building wheel for mysql-connector (pyproject.toml): started\n",
      "  Building wheel for mysql-connector (pyproject.toml): finished with status 'done'\n",
      "  Created wheel for mysql-connector: filename=mysql_connector-2.2.9-cp313-cp313-win_amd64.whl size=248051 sha256=3b66fbc9531d1c8c00852e2580ce4e005f2af0319ad0f44c0ed5e2118d30a806\n",
      "  Stored in directory: c:\\users\\ompra\\appdata\\local\\pip\\cache\\wheels\\4e\\c1\\23\\9423c444a75266a05275c80ebf5c6efe2368388e976b690a0f\n",
      "Successfully built mysql-connector\n",
      "Installing collected packages: mysql-connector\n",
      "Successfully installed mysql-connector-2.2.9\n",
      "Note: you may need to restart the kernel to use updated packages.\n"
     ]
    },
    {
     "name": "stderr",
     "output_type": "stream",
     "text": [
      "\n",
      "[notice] A new release of pip is available: 24.3.1 -> 25.1.1\n",
      "[notice] To update, run: python.exe -m pip install --upgrade pip\n"
     ]
    }
   ],
   "source": [
    "%pip install mysql-connector\n"
   ]
  },
  {
   "cell_type": "code",
   "execution_count": 9,
   "id": "3f6753e4",
   "metadata": {},
   "outputs": [],
   "source": [
    "import mysql.connector  \t\t#importing database\n",
    "\n",
    "database = mysql.connector.connect(\n",
    "  host=\"localhost\",\n",
    "  user=\"root\",\n",
    "  password=\"\",\n",
    "  database=\"brodway python\"\n",
    ")\n",
    "db = database.cursor()  #  It holds the data\n",
    "\n",
    "# db.execute(“CREATE  TABLE  subject(id INT, name VARCHAR(255))”) ----No need to execute this becasue a table has already been created\n"
   ]
  },
  {
   "cell_type": "code",
   "execution_count": 11,
   "id": "0f13fce5",
   "metadata": {},
   "outputs": [
    {
     "name": "stdout",
     "output_type": "stream",
     "text": [
      "(1, 'Ram', 99, 99, 99, 99, 99, 495, 99.0, 'A+')\n",
      "(2, 'Shyam', 98, 98, 98, 98, 98, 490, 98.0, 'A+')\n",
      "(3, 'Hari', 97, 97, 97, 97, 97, 485, 97.0, 'A+')\n",
      "(4, 'Sanu', 96, 96, 96, 96, 96, 480, 96.0, 'A+')\n"
     ]
    }
   ],
   "source": [
    "db.execute(\"SELECT * FROM student\")\n",
    "result =db.fetchall()\n",
    "\n",
    "for x in result:\n",
    "  print(x)"
   ]
  },
  {
   "cell_type": "code",
   "execution_count": null,
   "id": "c188669c",
   "metadata": {},
   "outputs": [
    {
     "name": "stdout",
     "output_type": "stream",
     "text": [
      "('Ram', 495, 99.0, 'A+')\n",
      "('Shyam', 490, 98.0, 'A+')\n",
      "('Hari', 485, 97.0, 'A+')\n",
      "('Sanu', 480, 96.0, 'A+')\n"
     ]
    }
   ],
   "source": [
    "db.execute(\"SELECT name,total,percentagecentagecentagecentage,grade FROM student\")\n",
    "result =db.fetchall()\n",
    "\n",
    "for x in result:\n",
    "  print(x)"
   ]
  },
  {
   "cell_type": "code",
   "execution_count": null,
   "id": "a03baeae",
   "metadata": {},
   "outputs": [
    {
     "name": "stdout",
     "output_type": "stream",
     "text": [
      "(1, 'Ram', 99, 99, 99, 99, 99, 495, 99.0, 'A+')\n",
      "(2, 'Shyam', 98, 98, 98, 98, 98, 490, 98.0, 'A+')\n",
      "(3, 'Hari', 97, 97, 97, 97, 97, 485, 97.0, 'A+')\n",
      "(4, 'Sanu', 96, 96, 96, 96, 96, 480, 96.0, 'A+')\n"
     ]
    }
   ],
   "source": [
    "db.execute(\"SELECT * FROM student WHERE percentagecentage>=90 \")\n",
    "result =db.fetchall()\n",
    "\n",
    "for x in result:\n",
    "  print(x)"
   ]
  },
  {
   "cell_type": "code",
   "execution_count": null,
   "id": "349a0f7a",
   "metadata": {},
   "outputs": [],
   "source": [
    "# Insert\n",
    "\n",
    "sql='''INSERT INTO `student`(`Name`, `Physics`, `Chemistry`, `Maths`, `Nepali`, `English`, `Total`, `percentagecentage`, `Grade`) VALUES ('Gopal','76','75','67','56','65','355','68','B');'''\n",
    "db.execute(sql)\n",
    "database.commit()"
   ]
  },
  {
   "cell_type": "code",
   "execution_count": 29,
   "id": "6fa27a7d",
   "metadata": {},
   "outputs": [
    {
     "name": "stdout",
     "output_type": "stream",
     "text": [
      "The total marks obtained is  276\n",
      "The total percentagecentage is  46.0\n"
     ]
    }
   ],
   "source": [
    "name=input(\"Enter the name of the stuudent: \")\n",
    "p=int(input(\"Enter the marks obtained in Physics: \"))\n",
    "c=int(input(\"Enter the marks obtained in chemistry: \"))\n",
    "m=int(input(\"Enter the marks obtained in maths: \"))\n",
    "e=int(input(\"Enter the marks obtained in english: \"))\n",
    "n=int(input(\"Enter the marks obtained in nepali: \"))\n",
    "total= p+c+m+n+e\n",
    "percentage=float((total/600)*100)\n",
    "\n",
    "if(percentage>=0 and percentage<=100):\n",
    "    print(\"The total marks obtained is \",total)\n",
    "    print(\"The total percentagecentage is \",percentage)\n",
    "\n",
    "    if(percentage>=90 and percentage<=100):\n",
    "        grade=\"A+\"\n",
    "        \n",
    "    elif(percentage>=80 and percentage<90):\n",
    "        grade=\"A\"\n",
    "        \n",
    "    elif(percentage>=70 and percentage<80):\n",
    "        grade=\"B+\"\n",
    "        \n",
    "    elif(percentage>=60 and percentage<70):\n",
    "        grade=\"B\"\n",
    "        \n",
    "    elif(percentage>=50 and percentage<60):\n",
    "        grade=\"C+\"\n",
    "        \n",
    "    elif(percentage>=40 and percentage<50):\n",
    "        grade=\"C\"\n",
    "    else:\n",
    "        grade=\"F\"\n",
    "        \n",
    "        \n",
    "\n",
    "\n",
    "# Insert\n",
    "sql=f'''INSERT INTO student(Name, Physics, Chemistry, Maths, Nepali, English, Total, percentage, Grade) VALUES ('{name}',{p},{c},{m},{n},{e},{total},{percentage},'{grade}');'''\n",
    "db.execute(sql)\n",
    "database.commit()\n",
    "\n"
   ]
  },
  {
   "cell_type": "code",
   "execution_count": null,
   "id": "63d24e5c",
   "metadata": {},
   "outputs": [],
   "source": []
  },
  {
   "cell_type": "code",
   "execution_count": null,
   "id": "8711035e",
   "metadata": {},
   "outputs": [],
   "source": []
  }
 ],
 "metadata": {
  "kernelspec": {
   "display_name": "Python 3",
   "language": "python",
   "name": "python3"
  },
  "language_info": {
   "codemirror_mode": {
    "name": "ipython",
    "version": 3
   },
   "file_extension": ".py",
   "mimetype": "text/x-python",
   "name": "python",
   "nbconvert_exporter": "python",
   "pygments_lexer": "ipython3",
   "version": "3.13.1"
  }
 },
 "nbformat": 4,
 "nbformat_minor": 5
}
