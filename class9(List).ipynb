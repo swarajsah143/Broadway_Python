{
 "cells": [
  {
   "cell_type": "code",
   "execution_count": null,
   "id": "0e25926e",
   "metadata": {},
   "outputs": [
    {
     "name": "stdout",
     "output_type": "stream",
     "text": [
      "[2, 3, 4, 5]\n"
     ]
    }
   ],
   "source": [
    "# To delete list  [del--takes index,remove()---take value,pop()---removes value from one list and can be used to insert in another value]\n",
    "\n",
    "my_list = [1, 2, 3, 4, 5]\n",
    "del my_list[0]  # delete the first element\n",
    "print(my_list)  # Output: [2, 3, 4, 5]"
   ]
  },
  {
   "cell_type": "code",
   "execution_count": 2,
   "id": "e422dab5",
   "metadata": {},
   "outputs": [
    {
     "name": "stdout",
     "output_type": "stream",
     "text": [
      "[4, 5]\n"
     ]
    }
   ],
   "source": [
    "my_list = [1, 2, 3, 4, 5]\n",
    "del my_list[0:3]\n",
    "print(my_list)"
   ]
  },
  {
   "cell_type": "code",
   "execution_count": null,
   "id": "a1a752c2",
   "metadata": {},
   "outputs": [
    {
     "name": "stdout",
     "output_type": "stream",
     "text": [
      "[1, 2, 4, 5]\n"
     ]
    }
   ],
   "source": [
    "# Using remove()\n",
    "my_list = [1, 2, 3, 4, 5, 3]\n",
    "my_list.remove(3)\n",
    "print(my_list)  # Output: [1, 2, 4, 5, 3]"
   ]
  },
  {
   "cell_type": "code",
   "execution_count": null,
   "id": "cf74205e",
   "metadata": {},
   "outputs": [
    {
     "name": "stdout",
     "output_type": "stream",
     "text": [
      "[1, 2, 4, 5]\n"
     ]
    }
   ],
   "source": [
    "# To remove all the same elements, Using loop\n",
    "my_list = [1, 2, 3, 4, 3, 5, 3]\n",
    "c=my_list.count(3)\n",
    "for i in range(c):\n",
    "    my_list.remove(3)\n",
    "print(my_list)"
   ]
  },
  {
   "cell_type": "code",
   "execution_count": 8,
   "id": "472adc9d",
   "metadata": {},
   "outputs": [
    {
     "name": "stdout",
     "output_type": "stream",
     "text": [
      "2\n"
     ]
    }
   ],
   "source": [
    "# index()\n",
    "my_list = [1, 2, 3, 4, 3, 5, 3]\n",
    "print(my_list.index(3))  # Output: 2"
   ]
  },
  {
   "cell_type": "code",
   "execution_count": 11,
   "id": "81f188a1",
   "metadata": {},
   "outputs": [
    {
     "name": "stdout",
     "output_type": "stream",
     "text": [
      "2\n",
      "4\n",
      "6\n"
     ]
    }
   ],
   "source": [
    "# To print all the index of \"3\"\n",
    "my_list = [1, 2, 3, 4, 3, 5, 3]\n",
    "l=len(my_list)\n",
    "for i in range(l):\n",
    "    if (my_list[i]==3):\n",
    "        print(i)\n"
   ]
  },
  {
   "cell_type": "code",
   "execution_count": null,
   "id": "093cdfbf",
   "metadata": {},
   "outputs": [],
   "source": []
  },
  {
   "cell_type": "code",
   "execution_count": 16,
   "id": "ff139cc4",
   "metadata": {},
   "outputs": [
    {
     "name": "stdout",
     "output_type": "stream",
     "text": [
      "2\n",
      "[1, 3, 4, 5, 6, 7, 3, 8, 3]\n"
     ]
    }
   ],
   "source": [
    "#pop()\n",
    "\n",
    "my_list=[1,2,3,4,5,6,7,3,8,3]\n",
    "b=my_list.pop(1)\n",
    "print(b)\n",
    "print(my_list)"
   ]
  },
  {
   "cell_type": "code",
   "execution_count": 21,
   "id": "b5a0caee",
   "metadata": {},
   "outputs": [
    {
     "name": "stdout",
     "output_type": "stream",
     "text": [
      "2 is in the list\n",
      "6\n"
     ]
    }
   ],
   "source": [
    "# To search\n",
    "my_list=[1,2,3,4,5,6,7,3,8,3,2,2,2,2,2]\n",
    "if 2 in my_list:\n",
    "    print(\"2 is in the list\")\n",
    "    print(my_list.count(2))\n",
    "else:\n",
    "    print(\"No\")"
   ]
  },
  {
   "cell_type": "code",
   "execution_count": 26,
   "id": "3e21ca28",
   "metadata": {},
   "outputs": [
    {
     "name": "stdout",
     "output_type": "stream",
     "text": [
      "[[1, 2, 3, 4], [5, 6, 7, 8], [9, 10, 11, 12]]\n",
      "[1, 2, 3, 4]\n",
      "1\n"
     ]
    }
   ],
   "source": [
    "# Nested list\n",
    "\n",
    "a=[[1,2,3,4],[5,6,7,8],[9,10,11,12]]\n",
    "print(a)\n",
    "print(a[0])\n",
    "print(a[0][0])"
   ]
  },
  {
   "cell_type": "code",
   "execution_count": 2,
   "id": "1505fb27",
   "metadata": {},
   "outputs": [
    {
     "name": "stdout",
     "output_type": "stream",
     "text": [
      "[['swa', 12, 'trp'], ['shyam', 33, 'bhak'], ['hari', 55, 'pokh']]\n"
     ]
    }
   ],
   "source": [
    "#   To print like this \n",
    "# a=[[\"Ram\",11,\"Kathmandu\"],\n",
    "#   [\"Shyam\",12,\"Pokhara\"],\n",
    "#   [\"Hari\",13,\"Biratnagar\"]]\n",
    "a=[]\n",
    "n=int(input(\"Enter the no. of Elements: \"))\n",
    "for i in range(n):\n",
    "    name=input(\"Enter the name: \")\n",
    "    age=int(input(\"Enter the age: \"))\n",
    "    add=input(\"Enter the address: \")\n",
    "    a.append([name,age,add])\n",
    "print(a)\n"
   ]
  },
  {
   "cell_type": "code",
   "execution_count": null,
   "id": "a55b4c5b",
   "metadata": {},
   "outputs": [
    {
     "name": "stdout",
     "output_type": "stream",
     "text": [
      "['Ram', 11, 'Kathmandu']\n",
      "['Shyam', 12, 'Pokhara']\n",
      "['Hari', 13, 'Biratnagar']\n"
     ]
    }
   ],
   "source": [
    "# search\n",
    "a=[[\"Ram\",11,\"Kathmandu\"],\n",
    "    [\"Shyam\",12,\"Pokhara\"],\n",
    "    [\"Hari\",13,\"Biratnagar\"]]\n",
    "word=input(\"Enter the name whose detail you want to search: \")\n",
    "for i in a:\n",
    "    if word in i:\n",
    "        print(i)\n",
    "    "
   ]
  },
  {
   "cell_type": "code",
   "execution_count": null,
   "id": "2ff54c37",
   "metadata": {},
   "outputs": [],
   "source": []
  },
  {
   "cell_type": "code",
   "execution_count": 9,
   "id": "bf126d98",
   "metadata": {},
   "outputs": [
    {
     "name": "stdout",
     "output_type": "stream",
     "text": [
      "[[1, 2, 3], [4, 5, 6], [7, 8, 9]]\n"
     ]
    }
   ],
   "source": [
    "# To concate the lists\n",
    "\n",
    "a=[[1,2,3],[4,5,6]]\n",
    "b=[[7,8,9]]\n",
    "c=a+b\n",
    "print(c)\n"
   ]
  },
  {
   "cell_type": "code",
   "execution_count": null,
   "id": "ebb71287",
   "metadata": {},
   "outputs": [
    {
     "name": "stdout",
     "output_type": "stream",
     "text": [
      "[['Ram', 11, 'Tripureshwor'], ['Shyam', 12, 'Pokhara'], ['Hari', 13, 'Biratnagar']]\n"
     ]
    }
   ],
   "source": [
    "# To update elements inside list\n",
    "a=[[\"Ram\",11,\"Kathmandu\"],\n",
    "   [\"Shyam\",12,\"Pokhara\"],\n",
    "   [\"Hari\",13,\"Biratnagar\"]]\n",
    "a[0][2]=\"Tripureshwor\"\n",
    "print(a)"
   ]
  },
  {
   "cell_type": "code",
   "execution_count": 17,
   "id": "99948a4b",
   "metadata": {},
   "outputs": [
    {
     "name": "stdout",
     "output_type": "stream",
     "text": [
      "[['Ram', 11, 'Kathmandu,Nepal'], ['Shyam', 12, 'Pokhara,Nepal'], ['Hari', 13, 'Biratnagar,Nepal']]\n"
     ]
    }
   ],
   "source": [
    "lst=[[\"Ram\",11,\"Kathmandu\"],\n",
    "   [\"Shyam\",12,\"Pokhara\"],\n",
    "   [\"Hari\",13,\"Biratnagar\"]]\n",
    "for i in lst:\n",
    "    i[2]=f\"{i[2]},Nepal\"\n",
    "print(lst)"
   ]
  },
  {
   "cell_type": "code",
   "execution_count": 19,
   "id": "51656119",
   "metadata": {},
   "outputs": [
    {
     "name": "stdout",
     "output_type": "stream",
     "text": [
      "[['Shyam', 12, 'Pokhara'], ['Hari', 13, 'Biratnagar']]\n"
     ]
    }
   ],
   "source": [
    "# To remove in multi dimensional\n",
    "lst=[[\"Ram\",11,\"Kathmandu\"],\n",
    "   [\"Shyam\",12,\"Pokhara\"],\n",
    "   [\"Hari\",13,\"Biratnagar\"]]\n",
    "lst.remove([\"Ram\",11,\"Kathmandu\"])\n",
    "print(lst)"
   ]
  },
  {
   "cell_type": "code",
   "execution_count": 2,
   "id": "5e10685c",
   "metadata": {},
   "outputs": [
    {
     "name": "stdout",
     "output_type": "stream",
     "text": [
      "['Ram', 11, 'Kathmandu']\n",
      "[['Shyam', 12, 'Pokhara'], ['Hari', 13, 'Biratnagar']]\n"
     ]
    }
   ],
   "source": [
    "lst=[[\"Ram\",11,\"Kathmandu\"],\n",
    "   [\"Shyam\",12,\"Pokhara\"],\n",
    "   [\"Hari\",13,\"Biratnagar\"]]\n",
    "\n",
    "lst2=lst.pop(0)\n",
    "print(lst2)\n",
    "print(lst)\n",
    "\n"
   ]
  },
  {
   "cell_type": "code",
   "execution_count": null,
   "id": "6e98284f",
   "metadata": {},
   "outputs": [],
   "source": [
    "# WAP to search if the given name record is in the list\n",
    "\n",
    "lst=[[\"Ram\",11,\"Kathmandu\"],\n",
    "   [\"Shyam\",12,\"Pokhara\"],\n",
    "   [\"Hari\",13,\"Biratnagar\"]]\n",
    "name=input(\"Enter the name whose detail you want to search: \").upper()\n",
    "for info in lst:\n",
    "    for data in info:\n",
    "        if(name==str(data).upper()):\n",
    "            print(info)\n",
    "\n",
    "        \n"
   ]
  },
  {
   "cell_type": "code",
   "execution_count": null,
   "id": "d383dfcc",
   "metadata": {},
   "outputs": [],
   "source": []
  }
 ],
 "metadata": {
  "kernelspec": {
   "display_name": "Python 3",
   "language": "python",
   "name": "python3"
  },
  "language_info": {
   "codemirror_mode": {
    "name": "ipython",
    "version": 3
   },
   "file_extension": ".py",
   "mimetype": "text/x-python",
   "name": "python",
   "nbconvert_exporter": "python",
   "pygments_lexer": "ipython3",
   "version": "3.13.1"
  }
 },
 "nbformat": 4,
 "nbformat_minor": 5
}
