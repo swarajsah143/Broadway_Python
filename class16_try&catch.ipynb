{
 "cells": [
  {
   "cell_type": "code",
   "execution_count": 4,
   "id": "8a14f0c6",
   "metadata": {},
   "outputs": [],
   "source": [
    "try:\n",
    "    a=int(input(\"Enter any integer:\"))\n",
    "except ValueError:\n",
    "    print(\"Please enter a valid integer\")\n"
   ]
  },
  {
   "cell_type": "code",
   "execution_count": 6,
   "id": "50eedb81",
   "metadata": {},
   "outputs": [
    {
     "name": "stdout",
     "output_type": "stream",
     "text": [
      "Denomerator should not be zero\n"
     ]
    }
   ],
   "source": [
    "try: \n",
    "    num1=int(input(\"Enter the numerator:\"))\n",
    "    num2=int(input(\"Enter the denomerator:\"))\n",
    "    div=num1/num2\n",
    "    print(\"The division is \",div)\n",
    "except ValueError:\n",
    "    print(\"Please enter a valid integer\")\n",
    "except ZeroDivisionError:\n",
    "    print(\"Denomerator should not be zero\")"
   ]
  },
  {
   "cell_type": "code",
   "execution_count": null,
   "id": "4261b604",
   "metadata": {},
   "outputs": [],
   "source": [
    "a=10\n",
    "b=3\n",
    "assert a<b"
   ]
  },
  {
   "cell_type": "code",
   "execution_count": 10,
   "id": "11cf5d3d",
   "metadata": {},
   "outputs": [
    {
     "name": "stdout",
     "output_type": "stream",
     "text": [
      "You are eligible to vote\n"
     ]
    }
   ],
   "source": [
    "try:\n",
    "    age = int(input(\"Enter age = \"))\n",
    "    assert age > 18\n",
    "    print(\"You are eligible to vote\")\n",
    "except ValueError:\n",
    "    print(\"Enter only int value\")\n",
    "except AssertionError:\n",
    "    print(\"You are underage!\")"
   ]
  },
  {
   "cell_type": "code",
   "execution_count": null,
   "id": "11b9e321",
   "metadata": {},
   "outputs": [],
   "source": [
    "try:\n",
    "    age=int(input(\"Enter your age: \"))\n",
    "    assert age>18\n",
    "    print(\"You can vote\")\n",
    "except ValueError:\n",
    "    print(\"Enter the valid age\")\n",
    "except AssertionError:\n",
    "    print(\"You are under age\")"
   ]
  },
  {
   "cell_type": "code",
   "execution_count": 16,
   "id": "fcc751c7",
   "metadata": {},
   "outputs": [
    {
     "name": "stdout",
     "output_type": "stream",
     "text": [
      "Your age is  2\n"
     ]
    }
   ],
   "source": [
    "try:\n",
    "    age=int(input(\"Enter age: \"))\n",
    "    if type(age)!= int:\n",
    "        raise ValueError\n",
    "    else:\n",
    "        print(\"Your age is \",age)\n",
    "except ValueError:\n",
    "    print(\"Age should be an integer\")"
   ]
  },
  {
   "cell_type": "code",
   "execution_count": 21,
   "id": "3e5aa234",
   "metadata": {},
   "outputs": [
    {
     "name": "stdout",
     "output_type": "stream",
     "text": [
      "you have entered wrong username or password\n",
      "you have entered wrong username or password\n",
      "Login successful\n",
      "Login successful in 3 attempts\n"
     ]
    }
   ],
   "source": [
    "c=1\n",
    "username=\"admin\"\n",
    "password=\"admin\"\n",
    "def login():\n",
    "    global c\n",
    "    try:\n",
    "        username1=input(\"Enter the username:\")\n",
    "        password1=input(\"Enter the username:\")\n",
    "    \n",
    "        if (username1==username and password1==password):\n",
    "            print(f\"Login successful\")\n",
    "        else:\n",
    "            raise AssertionError\n",
    "        \n",
    "    except:\n",
    "        print(f\"you have entered wrong username or password\")\n",
    "        c=c+1\n",
    "        login()\n",
    "    else:\n",
    "        print(f\"Login successful in {c} attempts\")\n",
    "login()\n"
   ]
  },
  {
   "cell_type": "code",
   "execution_count": null,
   "id": "1e81232d",
   "metadata": {},
   "outputs": [],
   "source": []
  }
 ],
 "metadata": {
  "kernelspec": {
   "display_name": "Python 3",
   "language": "python",
   "name": "python3"
  },
  "language_info": {
   "codemirror_mode": {
    "name": "ipython",
    "version": 3
   },
   "file_extension": ".py",
   "mimetype": "text/x-python",
   "name": "python",
   "nbconvert_exporter": "python",
   "pygments_lexer": "ipython3",
   "version": "3.13.1"
  }
 },
 "nbformat": 4,
 "nbformat_minor": 5
}
