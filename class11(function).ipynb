{
 "cells": [
  {
   "cell_type": "markdown",
   "id": "c14bbce1",
   "metadata": {},
   "source": [
    "# Pre defined function\n",
    "# User defined function\n",
    "\n",
    " # Pre defined\n",
    " input()\n",
    " print()\n",
    " int()\n",
    " list()\n",
    " tuple()\n",
    " dict()\n",
    " set(),etc"
   ]
  },
  {
   "cell_type": "markdown",
   "id": "42aa6326",
   "metadata": {},
   "source": [
    "# User defined function\n",
    "\n",
    "def <function_name>():\n",
    "    <operations>\n",
    "<function_name>()"
   ]
  },
  {
   "cell_type": "code",
   "execution_count": 7,
   "id": "6fbb13a7",
   "metadata": {},
   "outputs": [
    {
     "name": "stdout",
     "output_type": "stream",
     "text": [
      "Hello World\n"
     ]
    }
   ],
   "source": [
    "def hello():\n",
    "    print(\"Hello World\")\n",
    "hello()"
   ]
  },
  {
   "cell_type": "code",
   "execution_count": 8,
   "id": "6a2bdd51",
   "metadata": {},
   "outputs": [
    {
     "name": "stdout",
     "output_type": "stream",
     "text": [
      "The area is 25\n"
     ]
    }
   ],
   "source": [
    "def area():\n",
    "    l=int(input(\"Enter the length: \")) # l, b,a are the local variable because it is defined inside the function\n",
    "    b=int(input(\"Enter the breadth: \"))\n",
    "    a=l*b\n",
    "    print(f\"The area is {a}\")\n",
    "area()"
   ]
  },
  {
   "cell_type": "code",
   "execution_count": null,
   "id": "babc595d",
   "metadata": {},
   "outputs": [
    {
     "name": "stdout",
     "output_type": "stream",
     "text": [
      "The area is 12\n"
     ]
    }
   ],
   "source": [
    "l=int(input(\"Enter the length: \")) # l, b are the global variables.\n",
    "b=int(input(\"Enter the breadth: \"))\n",
    "def area():\n",
    "    a=l*b                             # Local variable\n",
    "    print(f\"The area is {a}\")\n",
    "area()"
   ]
  },
  {
   "cell_type": "code",
   "execution_count": null,
   "id": "0875e438",
   "metadata": {},
   "outputs": [
    {
     "name": "stdout",
     "output_type": "stream",
     "text": [
      "The area is 15\n",
      "The length is 3\n"
     ]
    }
   ],
   "source": [
    "def area():\n",
    "    global l,b\n",
    "    l=int(input(\"Enter the length: \"))    # GLobal variable\n",
    "    b=int(input(\"Enter the breadth: \"))   # GLobal variable\n",
    "    a=l*b\n",
    "    print(f\"The area is {a}\")\n",
    "area()\n",
    "print(f\"The length is {l}\") "
   ]
  },
  {
   "cell_type": "code",
   "execution_count": null,
   "id": "915ee1bc",
   "metadata": {},
   "outputs": [
    {
     "name": "stdout",
     "output_type": "stream",
     "text": [
      "12\n"
     ]
    }
   ],
   "source": [
    "def area(l,b):  # a,b are parameters\n",
    "    a=l*b\n",
    "    print(a)\n",
    "l=int(input(\"Enter l = \"))   # Global variable\n",
    "b=int(input(\"Enter b = \"))   # Global variable\n",
    "area(l,b)   #l,b are arguments"
   ]
  },
  {
   "cell_type": "code",
   "execution_count": 14,
   "id": "aef48c5d",
   "metadata": {},
   "outputs": [
    {
     "name": "stdout",
     "output_type": "stream",
     "text": [
      "I am Hyper. I am 19 years old and I am Tripureshwor.\n"
     ]
    }
   ],
   "source": [
    "def info(name,age,add):\n",
    "    data=f\"I am {name}. I am {age} years old and I am {add}.\"\n",
    "    print(data)\n",
    "info(\"Hyper\",19,\"Tripureshwor\")"
   ]
  },
  {
   "cell_type": "code",
   "execution_count": null,
   "id": "624ad6f5",
   "metadata": {},
   "outputs": [
    {
     "name": "stdout",
     "output_type": "stream",
     "text": [
      "Hello, I am a C programmer.\n",
      "Hello, I am a C++ programmer.\n",
      "Hello, I am a Python programmer.\n"
     ]
    }
   ],
   "source": [
    "def language(lan=\"Python\"):    # Default value, if argument is blank then this is used\n",
    "    print(f\"Hello, I am a {lan} programmer.\")\n",
    "language(\"C\")\n",
    "language(\"C++\")\n",
    "language()"
   ]
  },
  {
   "cell_type": "code",
   "execution_count": null,
   "id": "6985b767",
   "metadata": {},
   "outputs": [
    {
     "name": "stdout",
     "output_type": "stream",
     "text": [
      "I am Hyper. I am 12 years old and I am Nepal.\n"
     ]
    }
   ],
   "source": [
    "def info(name,age,add=\"Nepal\"): # Default value is always written at the last( last parameter)\n",
    "    data=f\"I am {name}. I am {age} years old and I am {add}.\"\n",
    "    print(data)\n",
    "info(\"Hyper\",19)"
   ]
  },
  {
   "cell_type": "code",
   "execution_count": 21,
   "id": "2d95e954",
   "metadata": {},
   "outputs": [
    {
     "name": "stdout",
     "output_type": "stream",
     "text": [
      "2\n"
     ]
    }
   ],
   "source": [
    "# Return type function\n",
    "\n",
    "def area(l,b):\n",
    "    a=l*b\n",
    "    return a\n",
    "l=int(input(\"Enter l= \"))\n",
    "b=int(input(\"Enter b= \"))\n",
    "print(area(l,b))"
   ]
  },
  {
   "cell_type": "code",
   "execution_count": 23,
   "id": "370cd2d0",
   "metadata": {},
   "outputs": [
    {
     "name": "stdout",
     "output_type": "stream",
     "text": [
      "The area is  12\n",
      "The volume is  60\n"
     ]
    }
   ],
   "source": [
    "\n",
    "def area(l,b):\n",
    "    a=l*b\n",
    "    return a\n",
    "l=int(input(\"Enter l= \"))\n",
    "b=int(input(\"Enter b= \"))\n",
    "h=int(input(\"Enter h= \"))\n",
    "print(\"The area is \",area(l,b))\n",
    "print(\"The volume is \",h*area(l,b))\n"
   ]
  },
  {
   "cell_type": "code",
   "execution_count": null,
   "id": "7a9afb49",
   "metadata": {},
   "outputs": [],
   "source": []
  }
 ],
 "metadata": {
  "kernelspec": {
   "display_name": "Python 3",
   "language": "python",
   "name": "python3"
  },
  "language_info": {
   "codemirror_mode": {
    "name": "ipython",
    "version": 3
   },
   "file_extension": ".py",
   "mimetype": "text/x-python",
   "name": "python",
   "nbconvert_exporter": "python",
   "pygments_lexer": "ipython3",
   "version": "3.13.1"
  }
 },
 "nbformat": 4,
 "nbformat_minor": 5
}
