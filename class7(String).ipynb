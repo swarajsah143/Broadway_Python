{
 "cells": [
  {
   "cell_type": "code",
   "execution_count": 2,
   "id": "08b10f7b",
   "metadata": {},
   "outputs": [
    {
     "name": "stdout",
     "output_type": "stream",
     "text": [
      "Hyper\n",
      "Hyper\n",
      "Hyper\n"
     ]
    }
   ],
   "source": [
    "# String\n",
    "a='Hyper'\n",
    "b=\"Hyper\"\n",
    "c='''Hyper'''\n",
    "print(a)\n",
    "print(b)\n",
    "print(c)"
   ]
  },
  {
   "cell_type": "code",
   "execution_count": 3,
   "id": "340ee102",
   "metadata": {},
   "outputs": [
    {
     "name": "stdout",
     "output_type": "stream",
     "text": [
      "Hello World2 \n",
      "Hello World2 Hello World2 \n"
     ]
    }
   ],
   "source": [
    "a=\"Hello \"\n",
    "b=\"World2 \"\n",
    "c=a+b\n",
    "print(c)\n",
    "print(c*2)"
   ]
  },
  {
   "cell_type": "code",
   "execution_count": 4,
   "id": "39190861",
   "metadata": {},
   "outputs": [
    {
     "name": "stdout",
     "output_type": "stream",
     "text": [
      "H\n",
      "e\n",
      "l\n",
      "l\n",
      "o\n",
      " \n",
      "W\n",
      "o\n",
      "r\n",
      "l\n",
      "d\n"
     ]
    }
   ],
   "source": [
    "# Immutable data type\n",
    "# Itterable\n",
    "a=\"Hello World\"\n",
    "for i in a:\n",
    "    print(i)\n",
    "\n",
    "# if \"a\" is integer then it will not run because integers are not itterable"
   ]
  },
  {
   "cell_type": "code",
   "execution_count": 5,
   "id": "1e0b1162",
   "metadata": {},
   "outputs": [
    {
     "name": "stdout",
     "output_type": "stream",
     "text": [
      "H\n",
      "d\n",
      "l\n"
     ]
    }
   ],
   "source": [
    "# Indexing\n",
    "a=\"Hello World\"\n",
    "print(a[0])\n",
    "print(a[-1])  #right to left\n",
    "print(a[-2])"
   ]
  },
  {
   "cell_type": "code",
   "execution_count": 6,
   "id": "d5d44005",
   "metadata": {},
   "outputs": [
    {
     "name": "stdout",
     "output_type": "stream",
     "text": [
      "Hello\n",
      " World\n"
     ]
    }
   ],
   "source": [
    "#Slicing\n",
    "a=\"Hello World\"\n",
    "b=a[0:5]\n",
    "c=a[5:]\n",
    "print(b)\n",
    "print(c)"
   ]
  },
  {
   "cell_type": "code",
   "execution_count": 7,
   "id": "4738e453",
   "metadata": {},
   "outputs": [
    {
     "name": "stdout",
     "output_type": "stream",
     "text": [
      "Hello World"
     ]
    }
   ],
   "source": [
    "# Using for loop\n",
    "a=\"Hello World\"\n",
    "l=len(a)\n",
    "for i in range(l):\n",
    "    print(a[i],end=\"\")"
   ]
  },
  {
   "cell_type": "code",
   "execution_count": 8,
   "id": "26aeabde",
   "metadata": {},
   "outputs": [
    {
     "name": "stdout",
     "output_type": "stream",
     "text": [
      "Hello World"
     ]
    }
   ],
   "source": [
    "a=\"Hello World\"\n",
    "l=len(a)\n",
    "i=0\n",
    "while i<l:\n",
    "    print(a[i],end=\"\")\n",
    "    i+=1"
   ]
  },
  {
   "cell_type": "code",
   "execution_count": 9,
   "id": "c6045e77",
   "metadata": {},
   "outputs": [
    {
     "name": "stdout",
     "output_type": "stream",
     "text": [
      "Hey, I am Hyper. I am 19 years old and I live in Tripureshwor\n"
     ]
    }
   ],
   "source": [
    "# String Concate\n",
    "name=\"Hyper\"\n",
    "age=19\n",
    "add=\"Tripureshwor\"\n",
    "info=\"Hey, I am \"+name+\". I am \"+str(age)+\" years old and I live in \"+add\n",
    "print(info)"
   ]
  },
  {
   "cell_type": "code",
   "execution_count": 10,
   "id": "868f388a",
   "metadata": {},
   "outputs": [
    {
     "name": "stdout",
     "output_type": "stream",
     "text": [
      "Hey, I am Hyper. I am 19 years old and I live in Tripureshwor\n"
     ]
    }
   ],
   "source": [
    "# String formatting\n",
    "name=\"Hyper\"\n",
    "age=19\n",
    "add=\"Tripureshwor\"\n",
    "info=f\"Hey, I am {name}. I am {age} years old and I live in {add}\"\n",
    "print(info)"
   ]
  },
  {
   "cell_type": "code",
   "execution_count": 11,
   "id": "4acf1fab",
   "metadata": {},
   "outputs": [
    {
     "name": "stdout",
     "output_type": "stream",
     "text": [
      "Yes\n",
      "2\n"
     ]
    }
   ],
   "source": [
    "# Search in string\n",
    "\n",
    "fruits=\"mango guava pears apple papaya orange guava ram ramesh\"\n",
    "# print(fruits.find(\"guava\"))\n",
    "\n",
    "fruit=\"guava\"\n",
    "if fruit in fruits:\n",
    "    print(\"Yes\")\n",
    "    print(fruits.count(\"guava\"))\n",
    "else:\n",
    "    print(\"No\")\n"
   ]
  },
  {
   "cell_type": "code",
   "execution_count": 12,
   "id": "3e1306ab",
   "metadata": {},
   "outputs": [
    {
     "name": "stdout",
     "output_type": "stream",
     "text": [
      "Yes\n",
      "1\n"
     ]
    }
   ],
   "source": [
    "# Search in string\n",
    "\n",
    "fruits=\"Mango Guava Pears Apple Papaya Orange Guava Ram Ramesh\".lower()\n",
    "# print(fruits.find(\"guava\"))\n",
    "\n",
    "fruit=input(\"Enter the name of fruit you want to search: \").lower()\n",
    "if fruit in fruits:\n",
    "    print(\"Yes\")\n",
    "    print(fruits.count(fruit))\n",
    "else:\n",
    "    print(\"No\")\n"
   ]
  },
  {
   "cell_type": "code",
   "execution_count": 13,
   "id": "05d56a03",
   "metadata": {},
   "outputs": [
    {
     "name": "stdout",
     "output_type": "stream",
     "text": [
      "Mango Guava Pears Apple Papaya Orange Guava Ram Ramesh\n",
      "mango guava pears apple papaya orange guava ram ramesh\n"
     ]
    }
   ],
   "source": [
    "#Proof of immutability\n",
    "fruits=\"Mango Guava Pears Apple Papaya Orange Guava Ram Ramesh\"\n",
    "lower=fruits.lower()\n",
    "print(fruits)   # It will print orginal value so string is immutable\n",
    "fruits=lower      # Here we did modify.\n",
    "print(lower)\n"
   ]
  },
  {
   "cell_type": "code",
   "execution_count": null,
   "id": "1afda4e9",
   "metadata": {},
   "outputs": [],
   "source": []
  },
  {
   "cell_type": "code",
   "execution_count": 14,
   "id": "1e56f819",
   "metadata": {},
   "outputs": [
    {
     "name": "stdout",
     "output_type": "stream",
     "text": [
      "Mango Guava Pears Apple Papaya Orange Guava Guava Guavaesh\n"
     ]
    }
   ],
   "source": [
    "# Replace\n",
    "fruits=\"Mango Guava Pears Apple Papaya Orange Guava Ram Ramesh\"\n",
    "fruits=fruits.replace(\"Ram\",\"Guava\")  # It will also change Ramesh to Gavaesh\n",
    "print(fruits)"
   ]
  },
  {
   "cell_type": "code",
   "execution_count": null,
   "id": "fab0720b",
   "metadata": {},
   "outputs": [],
   "source": []
  }
 ],
 "metadata": {
  "kernelspec": {
   "display_name": "Python 3",
   "language": "python",
   "name": "python3"
  },
  "language_info": {
   "codemirror_mode": {
    "name": "ipython",
    "version": 3
   },
   "file_extension": ".py",
   "mimetype": "text/x-python",
   "name": "python",
   "nbconvert_exporter": "python",
   "pygments_lexer": "ipython3",
   "version": "3.13.1"
  }
 },
 "nbformat": 4,
 "nbformat_minor": 5
}
