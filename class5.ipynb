{
 "cells": [
  {
   "cell_type": "code",
   "execution_count": null,
   "id": "799839c5",
   "metadata": {},
   "outputs": [
    {
     "name": "stdout",
     "output_type": "stream",
     "text": [
      "h e l l o S w a r a j "
     ]
    }
   ],
   "source": [
    "# Loop in string\n",
    "str=\"helloSwarajSah\"\n",
    "for i in str:\n",
    "    print(i,end=\" \")    #It prints horizontally all the characters\n",
    "    # print(i)\n",
    "   "
   ]
  },
  {
   "cell_type": "code",
   "execution_count": null,
   "id": "424aa207",
   "metadata": {},
   "outputs": [
    {
     "name": "stdout",
     "output_type": "stream",
     "text": [
      "52\n",
      "Hey I am learning python I am at Broadway Infosys"
     ]
    }
   ],
   "source": [
    "a=\"Hey, I am learning python. I am at Broadway Infosys.\"\n",
    "print(len(a))\n",
    "for i in a:\n",
    "    if (i!=\".\" and i!=\",\"):   # True False = False\n",
    "        print(i,end=\"\")"
   ]
  },
  {
   "cell_type": "code",
   "execution_count": null,
   "id": "f61a302a",
   "metadata": {},
   "outputs": [
    {
     "name": "stdout",
     "output_type": "stream",
     "text": [
      "swada 4343\n",
      "sfas 545\n",
      "\n"
     ]
    }
   ],
   "source": [
    "# WAP to take name and phone no from users and create a simple data entry application.\n",
    "\n",
    "info=\"\"\n",
    "user=int(input(\"Enter the no. of users: \"))\n",
    "for i in range(user):\n",
    "    name=input(\"Enter your name: \")\n",
    "    phone=input(\"Enter your phone number: \")\n",
    "    data=name+\" \"+phone+\"\\n\"\n",
    "    info=info+data    \n",
    "print(info)\n",
    "\n",
    "\n",
    "\n"
   ]
  },
  {
   "cell_type": "code",
   "execution_count": null,
   "id": "0da85427",
   "metadata": {},
   "outputs": [
    {
     "name": "stdout",
     "output_type": "stream",
     "text": [
      "biscuit 20.0 2.0 40.0\n",
      "chowchow 30.0 3.0 90.0\n",
      "\n",
      "The grand total is  130.0\n"
     ]
    }
   ],
   "source": [
    "# WAP for entries of data \n",
    "info=\"\"\n",
    "grand_total=0   # here grand_total is defined because its value is changing everytime and getting updated.\n",
    "num=int(input(\"Enter the number of items you want to buy: \"))\n",
    "for i in range(num):\n",
    "    product=input(\"Enter the name of the product: \")\n",
    "    price=float(input(\"Enter the price of product: \"))\n",
    "    qty=float(input(\"Enter the quantity of product: \"))\n",
    "    \n",
    "    total=qty*price\n",
    "    grand_total+=total\n",
    "    row=product+\" \"+str(price)+\" \"+str(qty)+\" \"+str(total)+\"\\n\"\n",
    "    info+=row\n",
    "print(info)\n",
    "print(\"The grand total is \",grand_total)\n"
   ]
  },
  {
   "cell_type": "code",
   "execution_count": null,
   "id": "208dce7d",
   "metadata": {},
   "outputs": [
    {
     "name": "stdout",
     "output_type": "stream",
     "text": [
      " ooooooooooooooooooooo\n",
      "  ooooooooooooooooooo\n",
      "   ooooooooooooooooo\n",
      "    ooooooooooooooo\n",
      "     ooooooooooooo\n",
      "      ooooooooooo\n",
      "       ooooooooo\n",
      "        ooooooo\n",
      "         ooooo\n",
      "          ooo\n",
      "           o\n",
      "           o\n",
      "          ooo\n",
      "         ooooo\n",
      "        ooooooo\n",
      "       ooooooooo\n",
      "      ooooooooooo\n",
      "     ooooooooooooo\n",
      "    ooooooooooooooo\n",
      "   ooooooooooooooooo\n",
      "  ooooooooooooooooooo\n",
      " ooooooooooooooooooooo\n"
     ]
    }
   ],
   "source": [
    "j=0\n",
    "for i in range(21,0,-2):\n",
    "    print(\" \"*j,i*\"o\")\n",
    "    j=j+1\n",
    "# print(\"\\n\"*3)\n",
    "k=10\n",
    "for i in range(1,22,2):\n",
    "    print(\" \"*k,i*\"o\")\n",
    "    k-=1"
   ]
  },
  {
   "cell_type": "code",
   "execution_count": null,
   "id": "636bc5bc",
   "metadata": {},
   "outputs": [],
   "source": []
  }
 ],
 "metadata": {
  "kernelspec": {
   "display_name": "Python 3",
   "language": "python",
   "name": "python3"
  },
  "language_info": {
   "codemirror_mode": {
    "name": "ipython",
    "version": 3
   },
   "file_extension": ".py",
   "mimetype": "text/x-python",
   "name": "python",
   "nbconvert_exporter": "python",
   "pygments_lexer": "ipython3",
   "version": "3.13.1"
  }
 },
 "nbformat": 4,
 "nbformat_minor": 5
}
