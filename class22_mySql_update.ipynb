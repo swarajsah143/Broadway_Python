{
 "cells": [
  {
   "cell_type": "code",
   "execution_count": 1,
   "id": "b5391e65",
   "metadata": {},
   "outputs": [],
   "source": [
    "import mysql.connector  \t\t#importing database\n",
    "\n",
    "database = mysql.connector.connect(\n",
    "  host=\"localhost\",\n",
    "  user=\"root\",\n",
    "  password=\"\",\n",
    "  database=\"brodway python\"\n",
    ")\n",
    "db = database.cursor()  #  It holds the data\n",
    "\n",
    "# db.execute(“CREATE  TABLE  subject(id INT, name VARCHAR(255))”) ----No need to execute this becasue a table has already been created\n"
   ]
  },
  {
   "cell_type": "code",
   "execution_count": 5,
   "id": "0ef419db",
   "metadata": {},
   "outputs": [],
   "source": [
    "sql=\"UPDATE student SET Name = 'Roman' WHERE sn = 2\"\n",
    "db.execute(sql)\n",
    "database.commit()\n"
   ]
  },
  {
   "cell_type": "code",
   "execution_count": 6,
   "id": "5009e422",
   "metadata": {},
   "outputs": [],
   "source": [
    "sql=\"DELETE FROM student WHERE SN = 6\"\n",
    "db.execute(sql)\n",
    "database.commit()"
   ]
  },
  {
   "cell_type": "code",
   "execution_count": null,
   "id": "97c04efb",
   "metadata": {},
   "outputs": [],
   "source": []
  }
 ],
 "metadata": {
  "kernelspec": {
   "display_name": "Python 3",
   "language": "python",
   "name": "python3"
  },
  "language_info": {
   "codemirror_mode": {
    "name": "ipython",
    "version": 3
   },
   "file_extension": ".py",
   "mimetype": "text/x-python",
   "name": "python",
   "nbconvert_exporter": "python",
   "pygments_lexer": "ipython3",
   "version": "3.13.1"
  }
 },
 "nbformat": 4,
 "nbformat_minor": 5
}
